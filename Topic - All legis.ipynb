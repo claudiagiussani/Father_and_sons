{
 "cells": [
  {
   "cell_type": "markdown",
   "metadata": {},
   "source": [
    "## Topic Analisi\n",
    "Faccio l'analisi dei topic di ciascun discorso con text razor per i politici selezionati. <br>\n",
    "Ogni giorno max 500 discorsi per ogni account textrazor."
   ]
  },
  {
   "cell_type": "code",
   "execution_count": 3,
   "metadata": {},
   "outputs": [],
   "source": [
    "#import pymongo \n",
    "import pandas as pd\n",
    "import logging\n",
    "#import bson\n",
    "from numpy import array\n",
    "from numpy import argmax\n",
    "from sklearn.preprocessing import LabelEncoder\n",
    "from sklearn.preprocessing import OneHotEncoder\n",
    "import pickle\n",
    "import numpy as np\n",
    "from sklearn.model_selection import train_test_split\n",
    "import warnings\n",
    "warnings.filterwarnings(action='ignore')\n",
    "import time\n",
    "import pprint\n",
    "import pickle\n",
    "import random\n",
    "import numpy as np\n",
    "from sklearn.metrics import accuracy_score,precision_recall_curve, average_precision_score, confusion_matrix\n",
    "from scipy.sparse import csr_matrix\n",
    "import matplotlib.pyplot as plt\n",
    "from pprint import pprint\n",
    "from datetime import datetime\n",
    "import re\n",
    "import json\n",
    "import pandas\n",
    "import operator\n",
    "from functools import reduce\n",
    "import editdistance\n",
    "import copy\n",
    "import regex\n",
    "from nltk.tokenize import RegexpTokenizer\n",
    "from string import punctuation\n",
    "from nltk.corpus import stopwords\n",
    "import textrazor"
   ]
  },
  {
   "cell_type": "markdown",
   "metadata": {},
   "source": [
    "### I Legis"
   ]
  },
  {
   "cell_type": "code",
   "execution_count": 103,
   "metadata": {},
   "outputs": [],
   "source": [
    "textrazor.api_key = 'e12b234d9560569e031878f6351e7b4a2fc20f57893a2f443e315bc1'"
   ]
  },
  {
   "cell_type": "code",
   "execution_count": 104,
   "metadata": {},
   "outputs": [],
   "source": [
    "cognomi_I = pickle.load( open( \"cognomi_analisi.p\", \"rb\" ) )"
   ]
  },
  {
   "cell_type": "code",
   "execution_count": 105,
   "metadata": {},
   "outputs": [],
   "source": [
    "cognomi_I = cognomi_I['I']"
   ]
  },
  {
   "cell_type": "code",
   "execution_count": 106,
   "metadata": {},
   "outputs": [],
   "source": [
    "I_legis = {}\n",
    "\n",
    "I_legis = pickle.load( open( 'Discorsi_analisi/I_discorsi_analisi.p', \"rb\" ) )"
   ]
  },
  {
   "cell_type": "code",
   "execution_count": 107,
   "metadata": {},
   "outputs": [],
   "source": [
    "for cog in I_legis.keys(): # divisione in parti per poter eseguire l'analisi 500 alla volta\n",
    "    if len(I_legis[cog])>500:\n",
    "        l1 = I_legis[cog][0:500]\n",
    "        l2 = I_legis[cog][500:len(I_legis[cog])]\n",
    "        I_legis[cog] = []\n",
    "        I_legis[cog].append(l1)\n",
    "        I_legis[cog].append(l2)"
   ]
  },
  {
   "cell_type": "code",
   "execution_count": 108,
   "metadata": {},
   "outputs": [],
   "source": [
    "separator = ' '"
   ]
  },
  {
   "cell_type": "code",
   "execution_count": 109,
   "metadata": {},
   "outputs": [
    {
     "name": "stdout",
     "output_type": "stream",
     "text": [
      "GRONCHI 2\n",
      "MARTINO 2\n",
      "LEONE 2\n",
      "MORO 2\n",
      "SEGNI 2\n"
     ]
    }
   ],
   "source": [
    "for cog in I_legis:\n",
    "    print(cog+\" \"+str(len(I_legis[cog])))"
   ]
  },
  {
   "cell_type": "code",
   "execution_count": 110,
   "metadata": {},
   "outputs": [],
   "source": [
    "cog = 'SEGNI'  \n",
    "part = 1\n",
    "\n",
    "result_topic = {}\n",
    "result_topic[cog] = {}\n",
    "result_topic[cog]['entity'] = []\n",
    "result_topic[cog]['topic'] = []\n",
    "\n",
    "for d in I_legis[cog][part]:\n",
    "        tex = separator.join(d)\n",
    "        client = textrazor.TextRazor(extractors=[\"entities\", \"topics\"]) \n",
    "        response = client.analyze(tex)\n",
    "        client.set_language_override('ita')\n",
    "        ent = []\n",
    "        top = []\n",
    "        \n",
    "        for entity in response.entities():\n",
    "            ent.append((entity.id, entity.relevance_score))\n",
    "            \n",
    "        for topic in response.topics():\n",
    "            top.append((topic.label, topic.score)) \n",
    "\n",
    "        result_topic[cog]['entity'].append(ent)\n",
    "        result_topic[cog]['topic'].append(top)\n",
    "        \n",
    "pickle.dump( result_topic[cog], open( 'Result_topic_I/'+cog+\"_\"+str(part)+\".p\", \"wb\" ) )"
   ]
  },
  {
   "cell_type": "code",
   "execution_count": 111,
   "metadata": {},
   "outputs": [
    {
     "name": "stdout",
     "output_type": "stream",
     "text": [
      "360\n"
     ]
    }
   ],
   "source": [
    "pprint((len(result_topic[cog]['entity'])))"
   ]
  },
  {
   "cell_type": "markdown",
   "metadata": {},
   "source": [
    "### XII Legis"
   ]
  },
  {
   "cell_type": "code",
   "execution_count": 115,
   "metadata": {},
   "outputs": [],
   "source": [
    "textrazor.api_key = '151a3673790d45b82cee80457841ae7a0700008e04642c6b0ded28d9'"
   ]
  },
  {
   "cell_type": "code",
   "execution_count": 116,
   "metadata": {},
   "outputs": [],
   "source": [
    "cognomi_XII = pickle.load( open( \"cognomi_analisi.p\", \"rb\" ) )"
   ]
  },
  {
   "cell_type": "code",
   "execution_count": 117,
   "metadata": {},
   "outputs": [],
   "source": [
    "cognomi_XII = cognomi_XII['XII']"
   ]
  },
  {
   "cell_type": "code",
   "execution_count": 118,
   "metadata": {},
   "outputs": [],
   "source": [
    "XII_legis = {}\n",
    "\n",
    "XII_legis = pickle.load( open( 'Discorsi_analisi/XII_discorsi_analisi.p', \"rb\" ) )"
   ]
  },
  {
   "cell_type": "code",
   "execution_count": 119,
   "metadata": {},
   "outputs": [],
   "source": [
    "for cog in XII_legis.keys():\n",
    "    if len(XII_legis[cog])>500:\n",
    "        l1 = XII_legis[cog][0:500]\n",
    "        l2 = XII_legis[cog][500:len(XII_legis[cog])]\n",
    "        XII_legis[cog] = []\n",
    "        XII_legis[cog].append(l1)\n",
    "        XII_legis[cog].append(l2)"
   ]
  },
  {
   "cell_type": "code",
   "execution_count": 120,
   "metadata": {},
   "outputs": [
    {
     "name": "stdout",
     "output_type": "stream",
     "text": [
      "IRENE PIVETTI 2\n",
      "RAFFAELE DELLA \\ALLE 2\n",
      "LORENZO ACQUARONE 2\n",
      "LUCIANO VIOLANTE 2\n",
      "IGNAZIO LA RUSSA 2\n"
     ]
    }
   ],
   "source": [
    "for cog in XII_legis:\n",
    "    print(cog+\" \"+str(len(XII_legis[cog])))"
   ]
  },
  {
   "cell_type": "code",
   "execution_count": 121,
   "metadata": {},
   "outputs": [],
   "source": [
    "cog = 'IGNAZIO LA RUSSA'\n",
    "part = 1\n",
    "\n",
    "result_topic = {}\n",
    "result_topic[cog] = {}\n",
    "result_topic[cog]['entity'] = []\n",
    "result_topic[cog]['topic'] = []\n",
    "\n",
    "for d in XII_legis[cog][part]:\n",
    "        tex = separator.join(d)\n",
    "        client = textrazor.TextRazor(extractors=[\"entities\", \"topics\"]) #categories?\n",
    "        client.set_language_override('ita')\n",
    "        response = client.analyze(tex)\n",
    "\n",
    "        ent = []\n",
    "        top = []\n",
    "        \n",
    "        for entity in response.entities():\n",
    "            ent.append((entity.id, entity.relevance_score)) \n",
    "            \n",
    "        for topic in response.topics():\n",
    "            top.append((topic.label, topic.score))\n",
    "\n",
    "        result_topic[cog]['entity'].append(ent)\n",
    "        result_topic[cog]['topic'].append(top)\n",
    "        \n",
    "    \n",
    "pickle.dump( result_topic[cog], open( 'Result_topic_XII/'+cog+\"_\"+str(part)+\".p\", \"wb\" ) )"
   ]
  },
  {
   "cell_type": "code",
   "execution_count": 122,
   "metadata": {},
   "outputs": [
    {
     "name": "stdout",
     "output_type": "stream",
     "text": [
      "500\n"
     ]
    }
   ],
   "source": [
    "pprint((len(result_topic[cog]['entity'])))"
   ]
  },
  {
   "cell_type": "markdown",
   "metadata": {},
   "source": [
    "### XVII Legis"
   ]
  },
  {
   "cell_type": "code",
   "execution_count": 82,
   "metadata": {},
   "outputs": [],
   "source": [
    "textrazor.api_key = '112d39a9f10234c8405b9cc04f6fc708ba540b18e13ff3e5d92e09f6' "
   ]
  },
  {
   "cell_type": "code",
   "execution_count": 83,
   "metadata": {},
   "outputs": [],
   "source": [
    "cognomi_XVII = pickle.load( open( \"cognomi_analisi.p\", \"rb\" ) )"
   ]
  },
  {
   "cell_type": "code",
   "execution_count": 84,
   "metadata": {},
   "outputs": [],
   "source": [
    "cognomi_XVII = cognomi_XVII['XVII']"
   ]
  },
  {
   "cell_type": "code",
   "execution_count": 85,
   "metadata": {},
   "outputs": [],
   "source": [
    "XVII_legis = {}\n",
    "\n",
    "XVII_legis = pickle.load( open( 'Discorsi_analisi/XVII_discorsi_analisi.p', \"rb\" ) )"
   ]
  },
  {
   "cell_type": "code",
   "execution_count": 86,
   "metadata": {},
   "outputs": [],
   "source": [
    "for cog in XVII_legis.keys():\n",
    "    if len(XVII_legis[cog])>500:\n",
    "        l1 = XVII_legis[cog][0:500]\n",
    "        l2 = XVII_legis[cog][500:len(XVII_legis[cog])]\n",
    "        XVII_legis[cog] = []\n",
    "        XVII_legis[cog].append(l1)\n",
    "        XVII_legis[cog].append(l2)"
   ]
  },
  {
   "cell_type": "code",
   "execution_count": 87,
   "metadata": {},
   "outputs": [
    {
     "name": "stdout",
     "output_type": "stream",
     "text": [
      "ROBERTO GIACHETTI 2\n",
      "SIMONE BALDELLI 2\n",
      "MARINA SERENI 2\n",
      "LUIGI DI MAIO 2\n",
      "LAURA BOLDRINI 2\n"
     ]
    }
   ],
   "source": [
    "for cog in XVII_legis:\n",
    "    print(cog+\" \"+str(len(XVII_legis[cog])))"
   ]
  },
  {
   "cell_type": "code",
   "execution_count": 88,
   "metadata": {},
   "outputs": [],
   "source": [
    "cog = 'LAURA BOLDRINI' \n",
    "part = 1\n",
    "\n",
    "result_topic = {}\n",
    "result_topic[cog] = {}\n",
    "result_topic[cog]['entity'] = []\n",
    "result_topic[cog]['topic'] = []\n",
    "\n",
    "\n",
    "for d in XVII_legis[cog][part]:\n",
    "        tex = separator.join(d)\n",
    "        client = textrazor.TextRazor(extractors=[\"entities\", \"topics\"]) #categories?\n",
    "        client.set_language_override('ita')\n",
    "        response = client.analyze(tex)\n",
    "\n",
    "        ent = []\n",
    "        top = []\n",
    "        \n",
    "        for entity in response.entities():\n",
    "            ent.append((entity.id, entity.relevance_score))\n",
    "            \n",
    "        for topic in response.topics():\n",
    "            top.append((topic.label, topic.score))\n",
    "      \n",
    "        result_topic[cog]['entity'].append(ent)\n",
    "        result_topic[cog]['topic'].append(top)\n",
    "    \n",
    "pickle.dump( result_topic[cog], open( 'Result_topic_XVII/'+cog+\"_\"+str(part)+\".p\", \"wb\" ) )"
   ]
  },
  {
   "cell_type": "code",
   "execution_count": 89,
   "metadata": {},
   "outputs": [
    {
     "name": "stdout",
     "output_type": "stream",
     "text": [
      "500\n"
     ]
    }
   ],
   "source": [
    "pprint((len(result_topic[cog]['entity'])))"
   ]
  },
  {
   "cell_type": "markdown",
   "metadata": {},
   "source": [
    "### XVIII Legis"
   ]
  },
  {
   "cell_type": "code",
   "execution_count": 155,
   "metadata": {},
   "outputs": [],
   "source": [
    "textrazor.api_key = 'fb07f02f1b361ff25c7eaf400b1399ba1bf167ba37a51f246152d30e'"
   ]
  },
  {
   "cell_type": "code",
   "execution_count": 156,
   "metadata": {},
   "outputs": [],
   "source": [
    "cognomi_XVIII = pickle.load( open( \"cognomi_analisi.p\", \"rb\" ) )"
   ]
  },
  {
   "cell_type": "code",
   "execution_count": 157,
   "metadata": {},
   "outputs": [],
   "source": [
    "cognomi_XVIII = cognomi_XVIII['XVIII']"
   ]
  },
  {
   "cell_type": "code",
   "execution_count": 158,
   "metadata": {},
   "outputs": [],
   "source": [
    "XVIII_legis = {}\n",
    "\n",
    "XVIII_legis = pickle.load( open( 'Discorsi_analisi/XVIII_discorsi_analisi.p', \"rb\" ) )"
   ]
  },
  {
   "cell_type": "code",
   "execution_count": 159,
   "metadata": {},
   "outputs": [],
   "source": [
    "for cog in XVIII_legis.keys():\n",
    "    if len(XVIII_legis[cog])>500:\n",
    "        l1 = XVIII_legis[cog][0:500]\n",
    "        l2 = XVIII_legis[cog][500:len(XVIII_legis[cog])]\n",
    "        XVIII_legis[cog] = []\n",
    "        XVIII_legis[cog].append(l1)\n",
    "        XVIII_legis[cog].append(l2)"
   ]
  },
  {
   "cell_type": "code",
   "execution_count": 160,
   "metadata": {},
   "outputs": [
    {
     "name": "stdout",
     "output_type": "stream",
     "text": [
      "ETTORE ROSATO 2\n",
      "FABIO RAMPELLI 2\n",
      "MARIA ROSARIA CARFAGNA 2\n",
      "ROBERTO FICO 2\n",
      "MARIA EDERA SPADONI 2\n"
     ]
    }
   ],
   "source": [
    "for cog in XVIII_legis:\n",
    "    print(cog+\" \"+str(len(XVIII_legis[cog])))"
   ]
  },
  {
   "cell_type": "code",
   "execution_count": 161,
   "metadata": {},
   "outputs": [
    {
     "name": "stdout",
     "output_type": "stream",
     "text": [
      "500\n"
     ]
    }
   ],
   "source": [
    "print(len(XVIII_legis[cog][1]))"
   ]
  },
  {
   "cell_type": "code",
   "execution_count": 162,
   "metadata": {},
   "outputs": [],
   "source": [
    "cog = 'MARIA ROSARIA CARFAGNA'\n",
    "part = 1\n",
    "\n",
    "result_topic = {}\n",
    "result_topic[cog] = {}\n",
    "result_topic[cog]['entity'] = []\n",
    "result_topic[cog]['topic'] = []\n",
    "i = 0\n",
    "\n",
    "for d in XVIII_legis[cog][part]:\n",
    "        tex = separator.join(d)\n",
    "        client = textrazor.TextRazor(extractors=[\"entities\", \"topics\"]) #categories?\n",
    "        client.set_language_override('ita')\n",
    "        response = client.analyze(tex)\n",
    "\n",
    "        ent = []\n",
    "        top = []\n",
    "        \n",
    "        for entity in response.entities():\n",
    "            ent.append((entity.id, entity.relevance_score)) \n",
    "            \n",
    "        for topic in response.topics():\n",
    "            top.append((topic.label, topic.score))\n",
    "\n",
    "        result_topic[cog]['entity'].append(ent)\n",
    "        result_topic[cog]['topic'].append(top)\n",
    "\n",
    "pickle.dump( result_topic[cog], open( 'Result_topic_XVIII/'+cog+\"_\"+str(part)+\".p\", \"wb\" ) )"
   ]
  },
  {
   "cell_type": "code",
   "execution_count": 163,
   "metadata": {},
   "outputs": [
    {
     "name": "stdout",
     "output_type": "stream",
     "text": [
      "500\n"
     ]
    }
   ],
   "source": [
    "pprint((len(result_topic[cog]['entity'])))"
   ]
  }
 ],
 "metadata": {
  "kernelspec": {
   "display_name": "py38",
   "language": "python",
   "name": "py38"
  },
  "language_info": {
   "codemirror_mode": {
    "name": "ipython",
    "version": 3
   },
   "file_extension": ".py",
   "mimetype": "text/x-python",
   "name": "python",
   "nbconvert_exporter": "python",
   "pygments_lexer": "ipython3",
   "version": "3.8.3"
  }
 },
 "nbformat": 4,
 "nbformat_minor": 4
}
