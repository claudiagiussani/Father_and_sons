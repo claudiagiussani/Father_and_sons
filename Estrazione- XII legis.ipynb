{
 "cells": [
  {
   "cell_type": "markdown",
   "metadata": {},
   "source": [
    "## XII LEGISLATURA "
   ]
  },
  {
   "cell_type": "markdown",
   "metadata": {},
   "source": [
    "# Preprocessing"
   ]
  },
  {
   "cell_type": "code",
   "execution_count": 4,
   "metadata": {},
   "outputs": [],
   "source": [
    "#import pymongo \n",
    "import pandas as pd\n",
    "import logging\n",
    "#import bson\n",
    "from numpy import array\n",
    "from numpy import argmax\n",
    "from sklearn.preprocessing import LabelEncoder\n",
    "from sklearn.preprocessing import OneHotEncoder\n",
    "import pickle\n",
    "import numpy as np\n",
    "from sklearn.model_selection import train_test_split\n",
    "import warnings\n",
    "warnings.filterwarnings(action='ignore')\n",
    "import time\n",
    "import pprint\n",
    "import pickle\n",
    "import random\n",
    "import numpy as np\n",
    "from sklearn.metrics import accuracy_score,precision_recall_curve, average_precision_score, confusion_matrix\n",
    "from scipy.sparse import csr_matrix\n",
    "import matplotlib.pyplot as plt\n",
    "from pprint import pprint\n",
    "from datetime import datetime\n",
    "import re\n",
    "import json\n",
    "import pandas\n",
    "import operator\n",
    "from functools import reduce\n",
    "import editdistance\n",
    "import copy\n",
    "import regex\n",
    "from nltk.tokenize import RegexpTokenizer\n",
    "from string import punctuation\n",
    "from nltk.corpus import stopwords"
   ]
  },
  {
   "cell_type": "code",
   "execution_count": 2,
   "metadata": {},
   "outputs": [],
   "source": [
    "pattern = '\\w+|\\$[\\d\\.]+|\\S+'\n",
    "tokenizer = RegexpTokenizer(pattern)"
   ]
  },
  {
   "cell_type": "code",
   "execution_count": 6,
   "metadata": {},
   "outputs": [],
   "source": [
    "dataset_file = 'parliament/XII_legislature_italian_republic.json'\n",
    "\n",
    "with open(dataset_file, 'r') as infile:\n",
    "    dataset = json.load(infile)"
   ]
  },
  {
   "cell_type": "code",
   "execution_count": 7,
   "metadata": {},
   "outputs": [
    {
     "data": {
      "text/plain": [
       "326"
      ]
     },
     "execution_count": 7,
     "metadata": {},
     "output_type": "execute_result"
    }
   ],
   "source": [
    "len(dataset)"
   ]
  },
  {
   "cell_type": "code",
   "execution_count": 4,
   "metadata": {},
   "outputs": [
    {
     "name": "stdout",
     "output_type": "stream",
     "text": [
      "'http://www.camera.it/_dati/leg12/lavori/stenografici/stenografico/32381.pdf'\n"
     ]
    }
   ],
   "source": [
    "pprint(dataset[0]['link'])"
   ]
  },
  {
   "cell_type": "markdown",
   "metadata": {},
   "source": [
    "## Controlli e test"
   ]
  },
  {
   "cell_type": "code",
   "execution_count": 15,
   "metadata": {},
   "outputs": [],
   "source": [
    "#Verifico quanto spesso trovo l'intestazione della pagina e quale sia la sua lunghezza media\n",
    "\n",
    "find = []\n",
    "intro = ['Atti ', 'Alti ', 'A t t i ', 'Att i ', 'Alt i ', 'Allt ', 'At t i ', 'd t t i ']\n",
    "\n",
    "for d in dataset:\n",
    "    d['text'] = d['text'].replace('\\n', '')\n",
    "    year = d['date'].split('-')[0][1:4] #uso 948 perchè spesso c'è i948\n",
    "    \n",
    "    resulttot = []\n",
    "    for i in intro:\n",
    "        result = re.findall(i+'(.+?)'+year, d['text'])\n",
    "        result = [i+elem+year for elem in result]\n",
    "        \n",
    "        resulttot.append(result)\n",
    "\n",
    "    resulttot = reduce(operator.concat, resulttot)\n",
    "\n",
    "    find.append(resulttot)"
   ]
  },
  {
   "cell_type": "code",
   "execution_count": 16,
   "metadata": {},
   "outputs": [],
   "source": [
    "find = reduce(operator.concat, find)"
   ]
  },
  {
   "cell_type": "code",
   "execution_count": 27,
   "metadata": {},
   "outputs": [],
   "source": [
    "cont = 0\n",
    "lenght = []\n",
    "for l in find:\n",
    "    if len(l)>200:\n",
    "        cont = cont+1\n",
    "    if len(l)<4000:\n",
    "        lenght.append(len(l))"
   ]
  },
  {
   "cell_type": "code",
   "execution_count": 28,
   "metadata": {},
   "outputs": [
    {
     "data": {
      "text/plain": [
       "{'whiskers': [<matplotlib.lines.Line2D at 0x1a1cfd5190>,\n",
       "  <matplotlib.lines.Line2D at 0x1a1a6e9c90>],\n",
       " 'caps': [<matplotlib.lines.Line2D at 0x105da3e50>,\n",
       "  <matplotlib.lines.Line2D at 0x1a1cfb5e90>],\n",
       " 'boxes': [<matplotlib.lines.Line2D at 0x1a1cfd5090>],\n",
       " 'medians': [<matplotlib.lines.Line2D at 0x1a1cfb5f90>],\n",
       " 'fliers': [<matplotlib.lines.Line2D at 0x1a1a6e9ad0>],\n",
       " 'means': []}"
      ]
     },
     "execution_count": 28,
     "metadata": {},
     "output_type": "execute_result"
    },
    {
     "data": {
      "image/png": "[encoded data removed]",
      "text/plain": [
       "<Figure size 432x288 with 1 Axes>"
      ]
     },
     "metadata": {
      "needs_background": "light"
     },
     "output_type": "display_data"
    }
   ],
   "source": [
    "plt.boxplot(lenght)"
   ]
  },
  {
   "cell_type": "code",
   "execution_count": 30,
   "metadata": {},
   "outputs": [
    {
     "data": {
      "text/plain": [
       "105.0"
      ]
     },
     "execution_count": 30,
     "metadata": {},
     "output_type": "execute_result"
    }
   ],
   "source": [
    "np.median(lenght)"
   ]
  },
  {
   "cell_type": "code",
   "execution_count": 8,
   "metadata": {},
   "outputs": [],
   "source": [
    "#voglio vedere quante volte riesco a trovare la dicitura che mi indica l'inizio della seduta\n",
    "\n",
    "result = []  \n",
    "for d in dataset:\n",
    "        res = regex.search('(La){e<2}\\s+(seduta){e<3}\\s+(comincia){e<4}',d['text'])\n",
    "        if res != None:\n",
    "            result.append(res.group())"
   ]
  },
  {
   "cell_type": "code",
   "execution_count": null,
   "metadata": {},
   "outputs": [],
   "source": [
    "pprint(len(result))\n",
    "pprint((result))"
   ]
  },
  {
   "cell_type": "code",
   "execution_count": 14,
   "metadata": {},
   "outputs": [],
   "source": [
    "#verifico quanto spesso trovo la fine della seduta e splitto in modo che isolo le cose che vengono dopo \n",
    "\n",
    "result = [] \n",
    "for d in dataset:\n",
    "    if 'seduta' in d.keys():\n",
    "        res = regex.search('(La){e<2}\\s+(seduta){e<2}\\s+(termina){e<3}',d['seduta'])\n",
    "        if res != None:\n",
    "            result.append(res.group())"
   ]
  },
  {
   "cell_type": "code",
   "execution_count": null,
   "metadata": {},
   "outputs": [],
   "source": [
    "pprint(len(result))\n",
    "pprint(result)"
   ]
  },
  {
   "cell_type": "code",
   "execution_count": 44,
   "metadata": {},
   "outputs": [],
   "source": [
    "#cerco quante volte riesco a trovare l'inizio delle interrogazioni\n",
    "#non vi sono interrogazioni\n",
    "\n",
    "notresult = []\n",
    "result = []\n",
    "cont = 0\n",
    "\n",
    "for d in dataset_pulito:\n",
    "    if 'seduta' in d.keys():\n",
    "        res = regex.search('(Si){e<2}\\s+(dia){e<2}\\s+(lettura){e<3}\\s+(delle){e<2}\\s+(interrogazioni){e<6}',d['seduta'])\n",
    "        if res != None:\n",
    "            result.append(res.group())\n",
    "        else: notresult.append(cont)\n",
    "    cont = cont + 1"
   ]
  },
  {
   "cell_type": "code",
   "execution_count": 9,
   "metadata": {},
   "outputs": [],
   "source": [
    "#in fondo ho sempre le votazioni, splitto su di quelle che dopo di quelle non ho nulla di utile\n",
    "\n",
    "notresult = []\n",
    "result = []\n",
    "cont = 0\n",
    "\n",
    "for d in dataset_pulito:\n",
    "    if 'seduta' in d.keys():\n",
    "        res = regex.search('(VOTAZIONI){e<3}\\s+(QUALIFICATE){e<3}\\s+(EFFETTUATE){e<4}\\s+(MEDIANTE){e<3}\\s+(PROCEDIMENTO){e<4}\\s+(ELETTRONICO){e<4}',d['seduta'])\n",
    "        if res != None:\n",
    "            result.append(res.group())\n",
    "        else: notresult.append(cont)\n",
    "    cont = cont + 1"
   ]
  },
  {
   "cell_type": "code",
   "execution_count": 10,
   "metadata": {},
   "outputs": [
    {
     "name": "stdout",
     "output_type": "stream",
     "text": [
      "6\n"
     ]
    }
   ],
   "source": [
    "#ne ho poche in quanto la maggior parte sono dopo la fine della seduta\n",
    "pprint(len(result))"
   ]
  },
  {
   "cell_type": "markdown",
   "metadata": {},
   "source": [
    "## Pulizia del testo"
   ]
  },
  {
   "cell_type": "markdown",
   "metadata": {},
   "source": [
    "### Prima pulizia\n",
    "Rimonzione \\n e introduzione di ogni pagina"
   ]
  },
  {
   "cell_type": "code",
   "execution_count": 67,
   "metadata": {},
   "outputs": [],
   "source": [
    "dataset_pulito = []\n",
    "find = []\n",
    "intro = ['Atti ', 'Alti ', 'A t t i ', 'Att i ', 'Alt i ', 'Allt ', 'At t i ', 'd t t i ']\n",
    "\n",
    "for d in dataset:\n",
    "    d['text'] = d['text'].replace('\\n', ' ')\n",
    "    year = d['date'].split('-')[0][1:4] #uso 996 perchè spesso c'è i996\n",
    "    \n",
    "    resulttot = []\n",
    "    for i in intro:\n",
    "        result = re.findall(i+'(.+?)'+year, d['text'])\n",
    "        result = [i+elem+year for elem in result]\n",
    "        result = [elem for elem in result if len(elem)< 160]\n",
    "        \n",
    "        resulttot.append(result)\n",
    "\n",
    "    resulttot = reduce(operator.concat, resulttot)\n",
    "    #pprint(resulttot)\n",
    "    find.append(resulttot)\n",
    "    \n",
    "    for l in resulttot:\n",
    "        d['text'] = d['text'].replace(l, '')\n",
    "        \n",
    "    dataset_pulito.append(d)"
   ]
  },
  {
   "cell_type": "markdown",
   "metadata": {},
   "source": [
    "### Split inizio e fine seduta"
   ]
  },
  {
   "cell_type": "code",
   "execution_count": 68,
   "metadata": {},
   "outputs": [],
   "source": [
    "#Splitto sull'inizio seduta\n",
    "\n",
    "for d in dataset_pulito:\n",
    "    res = regex.search('(La){e<2}\\s+(seduta){e<3}\\s+(comincia){e<4}',d['text'])\n",
    "    if res !=None:\n",
    "        split = d['text'].split(res.group())\n",
    "        d.pop('text', None)\n",
    "        d['index'],d['seduta'] = split[0], split[1]"
   ]
  },
  {
   "cell_type": "code",
   "execution_count": 69,
   "metadata": {},
   "outputs": [
    {
     "name": "stdout",
     "output_type": "stream",
     "text": [
      "3\n"
     ]
    }
   ],
   "source": [
    "#Lo trovo praticamente ovunque tranne in 3\n",
    "\n",
    "cont = 0\n",
    "for d in dataset_pulito:\n",
    "    if 'index' not in d.keys():\n",
    "        cont+=1\n",
    "        \n",
    "pprint(cont)"
   ]
  },
  {
   "cell_type": "code",
   "execution_count": 70,
   "metadata": {},
   "outputs": [],
   "source": [
    "#Splitto la fine della seduts\n",
    "\n",
    "for d in dataset_pulito:\n",
    "    if 'seduta' in d.keys():\n",
    "        res = regex.search('(La){e<2}\\s+(seduta){e<2}\\s+(termina){e<3}',d['seduta'])\n",
    "        if res !=None:\n",
    "            split = d['seduta'].split(res.group())\n",
    "            d['seduta'],d['end'] = split[0], split[1]"
   ]
  },
  {
   "cell_type": "markdown",
   "metadata": {},
   "source": [
    "### Split interrogazioni\n"
   ]
  },
  {
   "cell_type": "code",
   "execution_count": 71,
   "metadata": {},
   "outputs": [],
   "source": [
    "#splitto sulle votazioni\n",
    "\n",
    "for d in dataset_pulito:\n",
    "    if 'seduta' in d.keys():\n",
    "        res = regex.search('(VOTAZIONI){e<3}\\s+(QUALIFICATE){e<3}\\s+(EFFETTUATE){e<4}\\s+(MEDIANTE){e<3}\\s+(PROCEDIMENTO){e<4}\\s+(ELETTRONICO){e<4}',d['seduta'])\n",
    "        if res !=None:\n",
    "            split = d['seduta'].split(res.group(),1)\n",
    "            d['seduta'], d['votazioni'] = split[0], split[1]"
   ]
  },
  {
   "cell_type": "markdown",
   "metadata": {},
   "source": [
    "### Presidenza"
   ]
  },
  {
   "cell_type": "code",
   "execution_count": 17,
   "metadata": {},
   "outputs": [],
   "source": [
    "#voglio vedere quante volte riesco a trovare la dicitura che indica il presidente\n",
    "\n",
    "notresult = []\n",
    "result = []\n",
    "cont = 0\n",
    "\n",
    "for d in dataset_pulito:\n",
    "    if 'index' in d.keys():\n",
    "        res = regex.search('(PRESIDENZA){e<4}\\s+(DEL){e<3}\\s+(PRESIDENTE){e<4}',d['index']) \n",
    "        \n",
    "        if res != None:\n",
    "            result.append(res.group())\n",
    "        else:    \n",
    "            res = regex.search('(PRESIDENZA){e<4}\\s+(DEL){e<3}\\s+(VICEPRESIDENTE){e<6}',d['index']) \n",
    "\n",
    "            if res != None:\n",
    "                result.append(res.group())\n",
    "            else:\n",
    "                notresult.append(cont)\n",
    "    cont = cont +1"
   ]
  },
  {
   "cell_type": "code",
   "execution_count": 18,
   "metadata": {},
   "outputs": [],
   "source": [
    "for i in notresult:\n",
    "    d = dataset_pulito[i]\n",
    "    \n",
    "    if 'index' in d.keys():\n",
    "        res = regex.search('(P R E S I D E N Z A D E L V I C E P R E S I D E N T E) {e<5}',d['index']) \n",
    "        if res != None:\n",
    "                result.append(res.group())\n",
    "        else:    \n",
    "            res = regex.search('(P R E S I D E N Z A D E L P R E S I D E N T E) {e<5}',d['index']) \n",
    "            if res != None:\n",
    "                result.append(res.group())\n",
    "\n",
    "#trovo il presidente in tutti i casi tranne 3"
   ]
  },
  {
   "cell_type": "code",
   "execution_count": 11,
   "metadata": {},
   "outputs": [],
   "source": [
    "pattern = '\\w+|\\$[\\d\\.]+|\\S+'\n",
    "tokenizer = RegexpTokenizer(pattern)"
   ]
  },
  {
   "cell_type": "code",
   "execution_count": 10,
   "metadata": {},
   "outputs": [],
   "source": [
    "def find_presidente(data):\n",
    "        pres = {}\n",
    "        res = regex.search('(PRESIDENZA){e<4}\\s+(DEL){e<3}\\s+(PRESIDENTE){e<4}',data) \n",
    "        \n",
    "        if res != None:\n",
    "            pres['presidente'] = data.split(res.group())[1]\n",
    "            pres['presidente'] = tokenizer.tokenize(pres['presidente'])\n",
    "            pres['presidente'] = [x for x in pres['presidente'] if x not in punctuation]\n",
    "            return pres\n",
    "        \n",
    "        elif regex.search('(PRESIDENZA){e<4}\\s+(DEL){e<3}\\s+(VICEPRESIDENTE){e<6}',data) != None: \n",
    "            res = regex.search('(PRESIDENZA){e<4}\\s+(DEL){e<3}\\s+(VICEPRESIDENTE){e<6}',data)\n",
    "            pres['presidente'] = data.split(res.group())[1]\n",
    "            pres['presidente'] = tokenizer.tokenize(pres['presidente'])\n",
    "            pres['presidente'] = [x for x in pres['presidente'] if x not in punctuation]\n",
    "            return pres\n",
    "        \n",
    "        elif regex.search('(P R E S I D E N Z A D E L V I C E P R E S I D E N T E) {e<5}',data) != None:\n",
    "            res = regex.search('(P R E S I D E N Z A D E L V I C E P R E S I D E N T E) {e<5}',data)\n",
    "            pres['presidente'] = data.split(res.group())[1]\n",
    "            pres['presidente'] = tokenizer.tokenize(pres['presidente'])\n",
    "            pres['presidente'] = [x for x in pres['presidente'] if x not in punctuation]\n",
    "            return pres\n",
    "        \n",
    "        elif regex.search('(P R E S I D E N Z A D E L P R E S I D E N T E) {e<5}',data) != None:\n",
    "            res = regex.search('(P R E S I D E N Z A D E L P R E S I D E N T E) {e<5}',data)\n",
    "            pres['presidente'] = data.split(res.group())[1]\n",
    "            pres['presidente'] = tokenizer.tokenize(pres['presidente'])\n",
    "            pres['presidente'] = [x for x in pres['presidente'] if x not in punctuation]\n",
    "            return pres\n",
    "        \n",
    "        else: return False\n",
    "        \n",
    "        #quando ho indi vuol dire che ho doppio presidente"
   ]
  },
  {
   "cell_type": "code",
   "execution_count": 72,
   "metadata": {},
   "outputs": [],
   "source": [
    "#Vado a salvare il campo presidente\n",
    "\n",
    "presidenza = []\n",
    "result = []\n",
    "cont = 0\n",
    "\n",
    "for d in dataset_pulito:\n",
    "    if 'index' in d.keys():\n",
    "        check = False\n",
    "        pres = find_presidente(d['index'])\n",
    "        \n",
    "        if regex.search('(PROVVISORIO){e<4}',pres['presidente'][0]) != None :\n",
    "                check = True\n",
    "                \n",
    "        if check == True:\n",
    "            if pres['presidente'][3].isupper() and len(pres['presidente'][3])>1 and pres['presidente'][3][0:4]!= 'INDI':\n",
    "               pres['presidente'] = pres['presidente'][1]+\" \"+pres['presidente'][2]+\" \"+pres['presidente'][3]\n",
    "               \n",
    "            else:  \n",
    "                pres['presidente'] = pres['presidente'][1]+\" \"+pres['presidente'][2]\n",
    "               \n",
    "        else:\n",
    "            if pres['presidente'][2].isupper() and len(pres['presidente'][2])>1 and pres['presidente'][2][0:4]!= 'INDI':\n",
    "                pres['presidente'] = pres['presidente'][0]+\" \"+pres['presidente'][1]+\" \"+pres['presidente'][2]\n",
    "            else:   pres['presidente'] = pres['presidente'][0]+\" \"+pres['presidente'][1]\n",
    "        \n",
    "\n",
    "        d['presidente'] = [pres['presidente']]  #salvo tutto come presidente, non tengo la distinzione\n",
    "        \n",
    "    else:\n",
    "        pres = {}\n",
    "        pres['presidente'] = []\n",
    "   \n",
    "    pres['doc'] = cont\n",
    "\n",
    "    presidenza.append(pres)\n",
    "    cont = cont+1\n"
   ]
  },
  {
   "cell_type": "code",
   "execution_count": null,
   "metadata": {},
   "outputs": [],
   "source": [
    "pprint(presidenza) #violante, la russa, dotti, acquarone, della valle, irene P"
   ]
  },
  {
   "cell_type": "code",
   "execution_count": 74,
   "metadata": {},
   "outputs": [],
   "source": [
    "pickle.dump( dataset_pulito, open(\"Dataset_pulito.nosync/dataset_pulito_XII_prima.p\", \"wb\" ) )"
   ]
  },
  {
   "cell_type": "code",
   "execution_count": 75,
   "metadata": {},
   "outputs": [],
   "source": [
    "dataset_pulito = pickle.load( open(\"Dataset_pulito.nosync/dataset_pulito_XII_prima.p\", \"rb\" ))"
   ]
  },
  {
   "cell_type": "code",
   "execution_count": null,
   "metadata": {},
   "outputs": [],
   "source": [
    "cont = 0\n",
    "pres = {}\n",
    "\n",
    "for d in dataset_pulito: \n",
    "    if 'seduta' in d.keys() and 'presidente' in d.keys():\n",
    "        d['seduta'] = [d['seduta']]\n",
    "        i = 0\n",
    "        res = None\n",
    "        \n",
    "        r = regex.search('(PRESIDENZA){e<4}\\s+(DEL){e<3}\\s+(PRESIDENTE){e<6}',d['seduta'][0])\n",
    "        if r!= None:\n",
    "            res = r\n",
    "\n",
    "        r = regex.search('(PRESIDENZA){e<4}\\s+(DEL){e<3}\\s+(VICEPRESIDENTE){e<6}',d['seduta'][0])\n",
    "        if r != None and res!= None and r.span()[0]<res.span()[0]:\n",
    "            res = r\n",
    "\n",
    "        r = regex.search('(P R E S I D E N Z A D E L V I C E P R E S I D E N T E) {e<5}',d['seduta'][0])\n",
    "        if r != None and res!= None and r.span()[0]<res.span()[0]:\n",
    "            res = r    \n",
    "            \n",
    "        r = regex.search('(P R E S I D E N Z A D E L P R E S I D E N T E) {e<5}',d['seduta'][0])\n",
    "        if r != None and res!= None and r.span()[0]<res.span()[0]:\n",
    "            res = r \n",
    "\n",
    "        while res != None: #continuo a splittare finchè trovo che c'è un nuovo presidente\n",
    "            check = False\n",
    "            split = d['seduta'][i].split(res.group(),1)\n",
    "            d['seduta'].pop(i)\n",
    "            d['seduta'].append(split[0])\n",
    "            d['seduta'].append(split[1])\n",
    "\n",
    "            pres['presidente'] = tokenizer.tokenize(split[1])\n",
    "            pres['presidente'] = [x for x in pres['presidente'] if x not in punctuation]\n",
    "\n",
    "            if regex.search('(PROVVISORIO){e<4}',pres['presidente'][0]) != None :\n",
    "                check = True\n",
    "                \n",
    "            if check == True:\n",
    "                if pres['presidente'][3].isupper() and len(pres['presidente'][3])>1 and pres['presidente'][3] != 'PRESIDENTE' and pres['presidente'][3][0]!='(':\n",
    "                    pres['presidente'] = pres['presidente'][1]+\" \"+pres['presidente'][2]+\" \"+pres['presidente'][3]\n",
    "                else:   pres['presidente'] = pres['presidente'][1]+\" \"+pres['presidente'][2]\n",
    "\n",
    "            else:\n",
    "                 if pres['presidente'][2].isupper() and len(pres['presidente'][2])>1 and pres['presidente'][2] != 'PRESIDENTE'and pres['presidente'][2][0]!='(':\n",
    "                    pres['presidente'] = pres['presidente'][0]+\" \"+pres['presidente'][1]+\" \"+pres['presidente'][2]\n",
    "                 else:   pres['presidente'] = pres['presidente'][0]+\" \"+pres['presidente'][1]\n",
    "\n",
    "            d['presidente'].append(pres['presidente'])\n",
    "            \n",
    "            i = i +1\n",
    "            \n",
    "            res = None\n",
    "\n",
    "            r = regex.search('(PRESIDENZA){e<4}\\s+(DEL){e<3}\\s+(PRESIDENTE){e<6}',d['seduta'][i])\n",
    "            if r!= None:\n",
    "                res = r\n",
    "\n",
    "            r = regex.search('(PRESIDENZA){e<4}\\s+(DEL){e<3}\\s+(VICEPRESIDENTE){e<6}',d['seduta'][i])\n",
    "            if r != None and res!= None and r.span()[0]<res.span()[0]:\n",
    "                res = r\n",
    "\n",
    "            r = regex.search('(P R E S I D E N Z A D E L V I C E P R E S I D E N T E) {e<5}',d['seduta'][i])\n",
    "            if r != None and res!= None and r.span()[0]<res.span()[0]:\n",
    "                res = r    \n",
    "            \n",
    "            r = regex.search('(P R E S I D E N Z A D E L P R E S I D E N T E) {e<5}',d['seduta'][i])\n",
    "            if r != None and res!= None and r.span()[0]<res.span()[0]:\n",
    "                res = r \n",
    "            \n",
    "    pprint(cont)       \n",
    "    cont = cont+1"
   ]
  },
  {
   "cell_type": "code",
   "execution_count": null,
   "metadata": {},
   "outputs": [],
   "source": [
    "cont = 0\n",
    "res = []\n",
    "for d in dataset_pulito:\n",
    "    if 'presidente' in d.keys() and len(d['presidente'])>1:\n",
    "        print(d['presidente'])\n",
    "        res.append(cont)\n",
    "    cont = cont+1"
   ]
  },
  {
   "cell_type": "code",
   "execution_count": 94,
   "metadata": {},
   "outputs": [],
   "source": [
    "pickle.dump( dataset_pulito, open(\"Dataset_pulito.nosync/dataset_pulito_XII.p\", \"wb\" ) )"
   ]
  },
  {
   "cell_type": "markdown",
   "metadata": {},
   "source": [
    "## Divisione dei discorsi"
   ]
  },
  {
   "cell_type": "code",
   "execution_count": 35,
   "metadata": {},
   "outputs": [],
   "source": [
    "dataset_pulito = pickle.load( open( \"Dataset_pulito.nosync/dataset_pulito_XII.p\", \"rb\" ) )"
   ]
  },
  {
   "cell_type": "markdown",
   "metadata": {},
   "source": [
    "### Estrazione nomi dei politici"
   ]
  },
  {
   "cell_type": "code",
   "execution_count": 6,
   "metadata": {},
   "outputs": [],
   "source": [
    "#non i nomi dei leader, li devo estrarre, ho sempre nome e cognome, a parte per il presidente"
   ]
  },
  {
   "cell_type": "code",
   "execution_count": null,
   "metadata": {},
   "outputs": [],
   "source": [
    "#inserisco tutti i presidenti che ho trovato\n",
    "politici = {}\n",
    "\n",
    "for d in dataset_pulito:\n",
    "    if 'presidente' in d.keys():\n",
    "        cont = 0\n",
    "        for p in d['presidente']:\n",
    "            pres = p.split(' ')\n",
    "            pres1 = pres[0]+\" \"+pres[1]\n",
    "            if pres1 != 'IGNAZIO LA' and pres1 != 'RAFFAELE DELLA' and len(pres)>2:\n",
    "                pprint(d['presidente'][cont])\n",
    "                d['presidente'][cont] = pres1\n",
    "                pprint(d['presidente'][cont])\n",
    "            cont = cont +1"
   ]
  },
  {
   "cell_type": "code",
   "execution_count": 37,
   "metadata": {},
   "outputs": [],
   "source": [
    "len_p = []\n",
    "for d in dataset_pulito:\n",
    "    if 'presidente' in d.keys():\n",
    "        for p in d['presidente']:\n",
    "             len_p.append(len(d['presidente']))"
   ]
  },
  {
   "cell_type": "code",
   "execution_count": 38,
   "metadata": {},
   "outputs": [
    {
     "name": "stdout",
     "output_type": "stream",
     "text": [
      "7\n",
      "2.24031007751938\n",
      "2.0\n"
     ]
    }
   ],
   "source": [
    "pprint(np.max(len_p))\n",
    "pprint(np.mean(len_p))\n",
    "pprint(np.median(len_p))"
   ]
  },
  {
   "cell_type": "code",
   "execution_count": 39,
   "metadata": {},
   "outputs": [],
   "source": [
    "politici = {}\n",
    "\n",
    "for d in dataset_pulito:\n",
    "    if 'presidente' in d.keys():\n",
    "        for p in d['presidente']:\n",
    "            if p not in politici.keys():\n",
    "                politici[p] = 1"
   ]
  },
  {
   "cell_type": "code",
   "execution_count": 40,
   "metadata": {},
   "outputs": [
    {
     "name": "stdout",
     "output_type": "stream",
     "text": [
      "{'I G': 1,\n",
      " 'I R': 1,\n",
      " 'IGNAZIO L': 1,\n",
      " 'IGNAZIO LA': 1,\n",
      " 'IGNAZIO LA RUSSA': 1,\n",
      " 'IREN E': 1,\n",
      " 'IRENE P': 1,\n",
      " 'IRENE PIVEITI': 1,\n",
      " 'IRENE PIVETIT': 1,\n",
      " 'IRENE PIVETTI': 1,\n",
      " 'IRENE PIVETTT': 1,\n",
      " 'IRENE PIVETTl': 1,\n",
      " 'IRENE R': 1,\n",
      " 'IRENE RIVETTI': 1,\n",
      " 'L O': 1,\n",
      " 'L U': 1,\n",
      " 'LORENZO A': 1,\n",
      " 'LORENZO ACOUARONE': 1,\n",
      " 'LORENZO ACQUARONE': 1,\n",
      " 'LUCIANO V': 1,\n",
      " 'LUCIANO VIOLANTE': 1,\n",
      " 'P R': 1,\n",
      " 'R A': 1,\n",
      " 'RAFFAELE D': 1,\n",
      " 'RAFFAELE DELLA VALLE': 1,\n",
      " 'RAFFAELE DELLA \\\\ALLE': 1,\n",
      " 'VITTORIO D': 1,\n",
      " 'VITTORIO DOTTI': 1}\n"
     ]
    }
   ],
   "source": [
    "pprint(politici)"
   ]
  },
  {
   "cell_type": "code",
   "execution_count": 41,
   "metadata": {},
   "outputs": [],
   "source": [
    "\n",
    "cont = 0\n",
    "flag = 0\n",
    "\n",
    "for data in dataset_pulito:\n",
    "    if 'seduta' in data.keys():\n",
    "        for k in range(0,len(data['seduta'])):\n",
    "            presidente = data['presidente'][k]\n",
    "            \n",
    "            text = data['seduta'][k]\n",
    "            text_token = tokenizer.tokenize(text)\n",
    "            text_token = [x for x in text_token if x not in punctuation]\n",
    "\n",
    "            for i in range(0,len(text_token)):\n",
    "\n",
    "                    word = text_token[i]\n",
    "                    politico = re.search(r\"[A-Z]{4,}\", word)\n",
    "\n",
    "                    if politico != None and i+2<len(text_token):\n",
    "                        if editdistance.eval(politico.group(), 'PRESIDENTE')<4:\n",
    "                            pol = presidente\n",
    "                            politici[pol] = politici[pol]+1\n",
    "                        \n",
    "                        else:\n",
    "                            if flag == 0: \n",
    "                                flag = 0\n",
    "                                if text_token[i+1].isupper() and len(text_token[i+1])>1 and text_token[i+1][0]!='(' : #ignoro cose tipo XIII legisl\n",
    "\n",
    "                                    if text_token[i+2].isupper() and len(text_token[i+2])>2 and text_token[i+2][0]!='(':\n",
    "                                        pol = word+\" \"+text_token[i+1]+\" \"+text_token[i+2]\n",
    "\n",
    "                                        if pol not in politici.keys():\n",
    "                                            politici[pol] = 1\n",
    "                                        else: politici[pol] = politici[pol]+1\n",
    "                                        flag = 2\n",
    "\n",
    "\n",
    "                                    else:\n",
    "                                        pol = word+\" \"+text_token[i+1]\n",
    "                                        if pol not in politici.keys():\n",
    "                                            politici[pol] = 1\n",
    "                                        else: politici[pol] = politici[pol]+1\n",
    "                                        flag = 1\n",
    "\n",
    "                            else: flag = flag -1\n",
    "\n",
    "            cont = cont +1"
   ]
  },
  {
   "cell_type": "code",
   "execution_count": null,
   "metadata": {},
   "outputs": [],
   "source": [
    "pprint((sorted(politici)))"
   ]
  },
  {
   "cell_type": "code",
   "execution_count": null,
   "metadata": {},
   "outputs": [],
   "source": [
    "pprint((sorted(politici)))"
   ]
  },
  {
   "cell_type": "code",
   "execution_count": 43,
   "metadata": {},
   "outputs": [
    {
     "name": "stdout",
     "output_type": "stream",
     "text": [
      "1420\n"
     ]
    }
   ],
   "source": [
    "pprint(len(politici))"
   ]
  },
  {
   "cell_type": "code",
   "execution_count": 44,
   "metadata": {},
   "outputs": [],
   "source": [
    "politici_max = [] #tengo solamente quelli con almeno 3 occorrenze\n",
    "\n",
    "for k in politici.keys():\n",
    "    if politici[k] > 2:\n",
    "        politici_max.append([k, politici[k]])"
   ]
  },
  {
   "cell_type": "code",
   "execution_count": 45,
   "metadata": {},
   "outputs": [
    {
     "name": "stdout",
     "output_type": "stream",
     "text": [
      "760\n"
     ]
    }
   ],
   "source": [
    "pprint(len(politici_max))\n",
    "#li considero come tutti i politici\n",
    "#lo uso per scartare quelli che non dovrebbero essere politici"
   ]
  },
  {
   "cell_type": "code",
   "execution_count": 46,
   "metadata": {},
   "outputs": [],
   "source": [
    "politici_max_name = [elem[0] for elem in politici_max]"
   ]
  },
  {
   "cell_type": "code",
   "execution_count": null,
   "metadata": {},
   "outputs": [],
   "source": [
    "pprint(sorted(politici_max))"
   ]
  },
  {
   "cell_type": "code",
   "execution_count": 48,
   "metadata": {},
   "outputs": [],
   "source": [
    "#li aggrego in base alle somiglianze nel nome\n",
    "\n",
    "politici_definitivi = []\n",
    "cont = 1\n",
    "\n",
    "for p in politici_max:\n",
    "    for i in range(cont, len(politici_max)):\n",
    "        if len(p[0]) <=  10 and editdistance.eval(p[0],politici_max[i][0])<3:\n",
    "            p[1] = p[1] + politici_max[i][1]\n",
    "            politici_max[i][1] = 0\n",
    "        \n",
    "        if len(p[0]) > 10 and editdistance.eval(p[0],politici_max[i][0])<4:\n",
    "            p[1] = p[1] + politici_max[i][1]\n",
    "            politici_max[i][1] = 0\n",
    "            \n",
    "    cont = cont +1\n",
    "    "
   ]
  },
  {
   "cell_type": "code",
   "execution_count": 49,
   "metadata": {},
   "outputs": [],
   "source": [
    "#elimino quelli che sono stati aggregati\n",
    "politici_max_agg = [elem for elem in politici_max if elem[1]>0]\n"
   ]
  },
  {
   "cell_type": "code",
   "execution_count": 50,
   "metadata": {},
   "outputs": [
    {
     "name": "stdout",
     "output_type": "stream",
     "text": [
      "641\n"
     ]
    }
   ],
   "source": [
    "pprint(len(politici_max_agg))"
   ]
  },
  {
   "cell_type": "code",
   "execution_count": null,
   "metadata": {},
   "outputs": [],
   "source": [
    "pprint(sorted(politici_max_agg))"
   ]
  },
  {
   "cell_type": "code",
   "execution_count": 52,
   "metadata": {},
   "outputs": [],
   "source": [
    "politici_max_def = [elem for elem in politici_max if elem[1]>70]"
   ]
  },
  {
   "cell_type": "code",
   "execution_count": 53,
   "metadata": {},
   "outputs": [
    {
     "name": "stdout",
     "output_type": "stream",
     "text": [
      "91\n"
     ]
    }
   ],
   "source": [
    "pprint(len(politici_max_def))\n",
    "\n",
    "#90 politici hanno almeno 70 discorso, vanno cmq ripuliti"
   ]
  },
  {
   "cell_type": "code",
   "execution_count": null,
   "metadata": {},
   "outputs": [],
   "source": [
    "pprint(politici_max_def)"
   ]
  },
  {
   "cell_type": "code",
   "execution_count": null,
   "metadata": {},
   "outputs": [],
   "source": [
    "pprint(politici_max_def)"
   ]
  },
  {
   "cell_type": "code",
   "execution_count": 55,
   "metadata": {},
   "outputs": [],
   "source": [
    "politici_max_def.remove(['LEGISLATURA DISCUSSIONI SEDUTA', 2456])\n",
    "politici_max_def.remove(['P R', 565])"
   ]
  },
  {
   "cell_type": "code",
   "execution_count": 56,
   "metadata": {},
   "outputs": [],
   "source": [
    "politici_max_def_name = [elem[0] for elem in politici_max_def]"
   ]
  },
  {
   "cell_type": "code",
   "execution_count": 57,
   "metadata": {},
   "outputs": [
    {
     "data": {
      "text/plain": [
       "760"
      ]
     },
     "execution_count": 57,
     "metadata": {},
     "output_type": "execute_result"
    }
   ],
   "source": [
    "len(politici_max_name)"
   ]
  },
  {
   "cell_type": "code",
   "execution_count": 58,
   "metadata": {},
   "outputs": [],
   "source": [
    "politici_max_name.remove('LEGISLATURA DISCUSSIONI SEDUTA')"
   ]
  },
  {
   "cell_type": "code",
   "execution_count": 59,
   "metadata": {},
   "outputs": [],
   "source": [
    "politici_max_name.remove('P R')"
   ]
  },
  {
   "cell_type": "markdown",
   "metadata": {},
   "source": [
    "### Estrazione e salvataggio dei discorsi"
   ]
  },
  {
   "cell_type": "markdown",
   "metadata": {},
   "source": [
    "Nei politici rilevanti lascio comunque i nomi scritti male tipo IRENE P in quanto altrimenti perderei tanti discorsi, poi alla fine aggregherò tutto.\n",
    "Quando vado a cercare i nomi nel documento devo tenere conto della edit distance con cui ho aggregato la lista di nomi e farla uguale.\n",
    "Nel testo ho sempre nome e congnome quindi devo sempre tenere conto del token e del token successivo, a parte nel caso del presidente"
   ]
  },
  {
   "cell_type": "code",
   "execution_count": 156,
   "metadata": {},
   "outputs": [],
   "source": [
    "def check_politico(pol):\n",
    "        \n",
    "    for cog in politici_max_def_name:\n",
    "            res = editdistance.eval(cog,pol)\n",
    "            \n",
    "            if len(pol)  <= 10 and res<3:\n",
    "                return True, cog\n",
    "                \n",
    "            if len(pol) > 10 and res<4:\n",
    "                return True, cog\n",
    "    \n",
    "    return False, None"
   ]
  },
  {
   "cell_type": "code",
   "execution_count": null,
   "metadata": {},
   "outputs": [],
   "source": [
    "pprint(sorted(politici_max_def_name))"
   ]
  },
  {
   "cell_type": "code",
   "execution_count": 60,
   "metadata": {},
   "outputs": [],
   "source": [
    "politici_max_def_name.remove('PARERE CONTRARIO')\n",
    "politici_max_def_name.remove('PARERE FAVOREVOLE')\n",
    "politici_max_def_name.remove('NULLA OSTA')\n",
    "politici_max_def_name.remove('DISCUSSIONI SEDUTA DEL')"
   ]
  },
  {
   "cell_type": "code",
   "execution_count": 61,
   "metadata": {},
   "outputs": [],
   "source": [
    "politici_max_name.remove('PARERE CONTRARIO')\n",
    "politici_max_name.remove('PARERE FAVOREVOLE')\n",
    "politici_max_name.remove('NULLA OSTA')\n",
    "politici_max_name.remove('DISCUSSIONI SEDUTA DEL')"
   ]
  },
  {
   "cell_type": "code",
   "execution_count": 62,
   "metadata": {},
   "outputs": [],
   "source": [
    "discorsi = {}\n",
    "\n",
    "for cog in politici_max_def_name:\n",
    "    discorsi[cog] = []"
   ]
  },
  {
   "cell_type": "code",
   "execution_count": null,
   "metadata": {},
   "outputs": [],
   "source": [
    "pprint(discorsi)"
   ]
  },
  {
   "cell_type": "code",
   "execution_count": null,
   "metadata": {},
   "outputs": [],
   "source": [
    "#Salvo i discorsi\n",
    "\n",
    "cont = 0\n",
    "flag = 0\n",
    "d = {}\n",
    "\n",
    "\n",
    "for data in dataset_pulito:\n",
    "    if 'seduta' in data.keys():\n",
    "         for k in range(0,len(data['seduta'])):\n",
    "            presidente = data['presidente'][k]\n",
    "            \n",
    "            text = data['seduta'][k]\n",
    "            text_token = tokenizer.tokenize(text)\n",
    "            text_token = [x for x in text_token if x not in punctuation]\n",
    "            i = 0\n",
    "            flag = 0\n",
    "            d = {}\n",
    "\n",
    "            for word in text_token:\n",
    "\n",
    "                    politico = re.search(r\"[A-Z]{4,}\", word)\n",
    "\n",
    "                    if politico != None and i+2<len(text_token):\n",
    "                        \n",
    "                        if editdistance.eval(politico.group(), 'PRESIDENTE')<4:\n",
    "                            pprint(politico.group())\n",
    "                            \n",
    "                            if d!={} and len(d['discorso'])>2:\n",
    "                                discorsi[d['politico']].append(d['discorso'])\n",
    "                                pprint(str(cont)+' '+d['politico'])\n",
    "                            \n",
    "                                \n",
    "                            flag = 0\n",
    "                            d = {}\n",
    "                            \n",
    "                            pres, cog_pres = check_politico(presidente) #controllo se il presidente mi interessa\n",
    "                            \n",
    "                            if pres == True:\n",
    "                                d['politico'] = cog_pres\n",
    "                                d['discorso'] = []\n",
    "                                flag = 1\n",
    "                        \n",
    "                        else:\n",
    "                            pol = politico.group()+\" \"+text_token[i+1]\n",
    "      \n",
    "                            pol2 =  politico.group()+\" \"+text_token[i+1]+\" \"+text_token[i+2]\n",
    "             \n",
    "                            \n",
    "                            if (pol in politici_max_name) or (pol2 in politici_max_name): #se non è in questa lista non lo considero un politico \n",
    "                                    if d!={} and len(d['discorso'])>2: #salvo perchè significa che inizia un altro discorso\n",
    "                                        discorsi[d['politico']].append(d['discorso'])\n",
    "                                        pprint(str(cont)+' '+d['politico'])\n",
    "                                        \n",
    "                                    \n",
    "                                    flag = 0\n",
    "                                    d = {}\n",
    "\n",
    "                                    if text_token[i+2].isupper() and len(text_token[i+2])>2 and text_token[i+2][0]!='(': \n",
    "                                        check, cog = check_politico(pol2)\n",
    "                                        if check == True:\n",
    "                                            d['politico'] = cog\n",
    "                                            d['discorso'] = []\n",
    "                                            text_token.pop(i+1)\n",
    "                                            text_token.pop(i+1)\n",
    "                                            flag = 1\n",
    "\n",
    "                                    else:\n",
    "                                        check, cog = check_politico(pol)\n",
    "                                        if check == True:\n",
    "                                            flag = 1\n",
    "                                            d['politico'] = cog\n",
    "                                            d['discorso'] = []\n",
    "                                            text_token.pop(i+1)\n",
    "\n",
    "                            elif flag == 1: #vuol dire che è una parola in maiuscolo ma non è un politico\n",
    "                                d['discorso'].append(word)\n",
    "                         \n",
    "                    elif flag ==1:\n",
    "                        d['discorso'].append(word)\n",
    "                    i = i +1\n",
    "                    \n",
    "            if d != {} and len(d['discorso'])>2: \n",
    "                discorsi[d['politico']].append(d['discorso'])\n",
    "                pprint(str(cont)+' '+d['politico'])\n",
    "               \n",
    "    cont = cont +1"
   ]
  },
  {
   "cell_type": "code",
   "execution_count": null,
   "metadata": {},
   "outputs": [],
   "source": [
    "#Devo aggregare i politici per nome, va fatto a mano in quanto alcuni non si riesce a metterli insieme automatic.\n",
    "\n",
    "for k in sorted(discorsi.keys()):\n",
    "    print(k+\" \"+str(len(discorsi[k])))"
   ]
  },
  {
   "cell_type": "code",
   "execution_count": 64,
   "metadata": {},
   "outputs": [],
   "source": [
    "for d in discorsi['IGNAZIO L']:\n",
    "    discorsi['IGNAZIO LA RUSSA'].append(d)"
   ]
  },
  {
   "cell_type": "code",
   "execution_count": 65,
   "metadata": {},
   "outputs": [
    {
     "data": {
      "text/plain": [
       "[]"
      ]
     },
     "execution_count": 65,
     "metadata": {},
     "output_type": "execute_result"
    }
   ],
   "source": [
    "discorsi.pop('IGNAZIO L')"
   ]
  },
  {
   "cell_type": "code",
   "execution_count": 66,
   "metadata": {},
   "outputs": [
    {
     "data": {
      "text/plain": [
       "[]"
      ]
     },
     "execution_count": 66,
     "metadata": {},
     "output_type": "execute_result"
    }
   ],
   "source": [
    "for d in discorsi['IRENE P']:\n",
    "    discorsi['IRENE PIVETTI'].append(d)\n",
    "\n",
    "discorsi.pop('IRENE P')"
   ]
  },
  {
   "cell_type": "code",
   "execution_count": 67,
   "metadata": {},
   "outputs": [
    {
     "data": {
      "text/plain": [
       "[]"
      ]
     },
     "execution_count": 67,
     "metadata": {},
     "output_type": "execute_result"
    }
   ],
   "source": [
    "for d in discorsi['LORENZO A']:\n",
    "    discorsi['LORENZO ACQUARONE'].append(d)\n",
    "\n",
    "discorsi.pop('LORENZO A')"
   ]
  },
  {
   "cell_type": "code",
   "execution_count": 68,
   "metadata": {},
   "outputs": [
    {
     "data": {
      "text/plain": [
       "[]"
      ]
     },
     "execution_count": 68,
     "metadata": {},
     "output_type": "execute_result"
    }
   ],
   "source": [
    "for d in discorsi['LUCIANO V']:\n",
    "    discorsi['LUCIANO VIOLANTE'].append(d)\n",
    "\n",
    "discorsi.pop('LUCIANO V')"
   ]
  },
  {
   "cell_type": "code",
   "execution_count": 69,
   "metadata": {},
   "outputs": [
    {
     "data": {
      "text/plain": [
       "[]"
      ]
     },
     "execution_count": 69,
     "metadata": {},
     "output_type": "execute_result"
    }
   ],
   "source": [
    "for d in discorsi['RAFFAELE D']:\n",
    "    discorsi['RAFFAELE DELLA \\ALLE'].append(d)\n",
    "\n",
    "discorsi.pop('RAFFAELE D')"
   ]
  },
  {
   "cell_type": "code",
   "execution_count": 184,
   "metadata": {},
   "outputs": [],
   "source": [
    "leng = []\n",
    "for k in discorsi.keys():\n",
    "    leng.append(len(discorsi[k]))"
   ]
  },
  {
   "cell_type": "code",
   "execution_count": 187,
   "metadata": {},
   "outputs": [
    {
     "name": "stdout",
     "output_type": "stream",
     "text": [
      "352.175\n"
     ]
    }
   ],
   "source": [
    "pprint(np.mean(leng))"
   ]
  },
  {
   "cell_type": "code",
   "execution_count": 179,
   "metadata": {},
   "outputs": [],
   "source": [
    "#Salvo un file per ciascun politico con i suoi discorso\n",
    "\n",
    "for cog in discorsi.keys():\n",
    "    pickle.dump( discorsi[cog], open( 'Discorsi-XII-legis/'+cog+\".p\", \"wb\" ) )\n",
    "    "
   ]
  },
  {
   "cell_type": "code",
   "execution_count": 71,
   "metadata": {},
   "outputs": [],
   "source": [
    "pickle.dump( list(discorsi.keys()), open( 'Discorsi-XII-legis/cognomi_discorsi.p', \"wb\" ) ) #da risalvare"
   ]
  },
  {
   "cell_type": "markdown",
   "metadata": {},
   "source": [
    "### punto della situazione\n",
    "\n",
    "#### Cose fatte:\n",
    "1. Ripulito il testo dall'intestazione\n",
    "2. Splittatto in index, seduta, seduta_2, votazioni e fine seduta (end)\n",
    "3. Trovato il presidente e splittato la seduta tutte le volte\n",
    "4. Isolato una lista dei politici più presenti (con almeno 70 discorsi)\n",
    "5. Estratto i discorsi mettendo la soglia ad almeno 70 e salvati in file pickle, uno per ogni politico\n",
    "                                               \n",
    "80 politici di interesse - 352 discorsi in media con mediana 109 - con soglia a 70\n",
    "\n",
    "\n"
   ]
  }
 ],
 "metadata": {
  "kernelspec": {
   "display_name": "Python 3",
   "language": "python",
   "name": "python3"
  },
  "language_info": {
   "codemirror_mode": {
    "name": "ipython",
    "version": 3
   },
   "file_extension": ".py",
   "mimetype": "text/x-python",
   "name": "python",
   "nbconvert_exporter": "python",
   "pygments_lexer": "ipython3",
   "version": "3.8.3"
  }
 },
 "nbformat": 4,
 "nbformat_minor": 4
}
