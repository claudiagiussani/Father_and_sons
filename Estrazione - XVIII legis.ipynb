{
 "cells": [
  {
   "cell_type": "markdown",
   "metadata": {},
   "source": [
    "## XVIII LEGISLATURA"
   ]
  },
  {
   "cell_type": "code",
   "execution_count": 2,
   "metadata": {},
   "outputs": [],
   "source": [
    "import pandas as pd\n",
    "import logging\n",
    "from numpy import array\n",
    "from numpy import argmax\n",
    "from sklearn.preprocessing import LabelEncoder\n",
    "from sklearn.preprocessing import OneHotEncoder\n",
    "import pickle\n",
    "import numpy as np\n",
    "from sklearn.model_selection import train_test_split\n",
    "import warnings\n",
    "warnings.filterwarnings(action='ignore')\n",
    "import time\n",
    "import pprint\n",
    "import pickle\n",
    "import random\n",
    "import numpy as np\n",
    "from sklearn.metrics import accuracy_score,precision_recall_curve, average_precision_score, confusion_matrix\n",
    "from scipy.sparse import csr_matrix\n",
    "import matplotlib.pyplot as plt\n",
    "from pprint import pprint\n",
    "from datetime import datetime\n",
    "import re\n",
    "import json\n",
    "import pandas\n",
    "import operator\n",
    "from functools import reduce\n",
    "import editdistance\n",
    "import copy\n",
    "import regex\n",
    "from nltk.tokenize import RegexpTokenizer\n",
    "from string import punctuation\n",
    "from nltk.corpus import stopwords"
   ]
  },
  {
   "cell_type": "code",
   "execution_count": 3,
   "metadata": {},
   "outputs": [],
   "source": [
    "dataset_file = 'parliament/XVIII_legislature_italian_republic.json'\n",
    "\n",
    "with open(dataset_file, 'r') as infile:\n",
    "    dataset = json.load(infile)"
   ]
  },
  {
   "cell_type": "code",
   "execution_count": 4,
   "metadata": {},
   "outputs": [
    {
     "data": {
      "text/plain": [
       "318"
      ]
     },
     "execution_count": 4,
     "metadata": {},
     "output_type": "execute_result"
    }
   ],
   "source": [
    "len(dataset)"
   ]
  },
  {
   "cell_type": "markdown",
   "metadata": {},
   "source": [
    "## Controlli e test"
   ]
  },
  {
   "cell_type": "code",
   "execution_count": null,
   "metadata": {},
   "outputs": [],
   "source": [
    "print(dataset[0])\n",
    "\n",
    "#è scritto a computer, no errori ortografici"
   ]
  },
  {
   "cell_type": "code",
   "execution_count": 260,
   "metadata": {},
   "outputs": [],
   "source": [
    "find = []\n",
    "intro = ['Atti ', 'Alti ', 'A t t i ', 'Att i ', 'Alt i ', 'Allt ', 'At t i ', 'd t t i ']\n",
    "\n",
    "for d in dataset:\n",
    "    d['text'] = d['text'].replace('\\n', ' ')\n",
    "    year = d['date'].split('-')[0][1:4]\n",
    "    \n",
    "    resulttot = []\n",
    "    for i in intro:\n",
    "        result = re.findall(i+'(.+?)'+year, d['text'])\n",
    "        result = [i+elem+year for elem in result]\n",
    "        \n",
    "        resulttot.append(result)\n",
    "\n",
    "    resulttot = reduce(operator.concat, resulttot)\n",
    "\n",
    "    find.append(resulttot)"
   ]
  },
  {
   "cell_type": "code",
   "execution_count": 261,
   "metadata": {},
   "outputs": [],
   "source": [
    "find = reduce(operator.concat, find)"
   ]
  },
  {
   "cell_type": "code",
   "execution_count": null,
   "metadata": {},
   "outputs": [],
   "source": [
    "cont = 0\n",
    "lenght = []\n",
    "for l in find:\n",
    "    if len(l)>200:\n",
    "        pprint(l)\n",
    "        cont = cont+1\n",
    "    if len(l)<4000:\n",
    "        lenght.append(len(l))"
   ]
  },
  {
   "cell_type": "code",
   "execution_count": 264,
   "metadata": {},
   "outputs": [
    {
     "name": "stdout",
     "output_type": "stream",
     "text": [
      "112.91381569369632\n"
     ]
    }
   ],
   "source": [
    "pprint(np.mean(lenght))"
   ]
  },
  {
   "cell_type": "code",
   "execution_count": 265,
   "metadata": {},
   "outputs": [
    {
     "data": {
      "text/plain": [
       "{'whiskers': [<matplotlib.lines.Line2D at 0x1a8eeeabd0>,\n",
       "  <matplotlib.lines.Line2D at 0x1a17b43050>],\n",
       " 'caps': [<matplotlib.lines.Line2D at 0x1a8eee5750>,\n",
       "  <matplotlib.lines.Line2D at 0x1a8eee5710>],\n",
       " 'boxes': [<matplotlib.lines.Line2D at 0x1a8eef6750>],\n",
       " 'medians': [<matplotlib.lines.Line2D at 0x1a8eef6c10>],\n",
       " 'fliers': [<matplotlib.lines.Line2D at 0x1a8eef2b90>],\n",
       " 'means': []}"
      ]
     },
     "execution_count": 265,
     "metadata": {},
     "output_type": "execute_result"
    },
    {
     "data": {
      "image/png": "[encoded data removed]",
      "text/plain": [
       "<Figure size 432x288 with 1 Axes>"
      ]
     },
     "metadata": {
      "needs_background": "light"
     },
     "output_type": "display_data"
    }
   ],
   "source": [
    "plt.boxplot(lenght)"
   ]
  },
  {
   "cell_type": "code",
   "execution_count": 267,
   "metadata": {},
   "outputs": [],
   "source": [
    "#voglio vedere quante volte riesco a trovare la dicitura che mi indica l'inizio della seduta\n",
    "\n",
    "result = []  \n",
    "for d in dataset:\n",
    "        res = regex.search('(La)\\s+(seduta){e<3}\\s+(comincia){e<4}',d['text'])\n",
    "        if res != None:\n",
    "            result.append(res.group())"
   ]
  },
  {
   "cell_type": "code",
   "execution_count": 271,
   "metadata": {},
   "outputs": [],
   "source": [
    "#verifico quanto spesso trovo la fine della seduta e splitto in modo che isolo le cose che vengono dopo \n",
    "\n",
    "result = [] \n",
    "for d in dataset:\n",
    "    if 'seduta' in d.keys():\n",
    "        res = regex.search('(La)\\s+(seduta){e<2}\\s+(termina){e<3}',d['seduta'])\n",
    "        if res != None:\n",
    "            result.append(res.group())"
   ]
  },
  {
   "cell_type": "code",
   "execution_count": 275,
   "metadata": {},
   "outputs": [],
   "source": [
    "#cerco quante volte riesco a trovare l'inizio delle interrogazioni\n",
    "#non vi sono interrogazioni\n",
    "\n",
    "notresult = []\n",
    "result = []\n",
    "cont = 0\n",
    "\n",
    "for d in dataset_pulito:\n",
    "    if 'seduta' in d.keys():\n",
    "        res = regex.search('(Si){e<2}\\s+(dia){e<2}\\s+(lettura){e<3}\\s+(delle){e<2}\\s+(interrogazioni){e<6}',d['seduta'])\n",
    "        if res != None:\n",
    "            result.append(res.group())\n",
    "        else: notresult.append(cont)\n",
    "    cont = cont + 1"
   ]
  },
  {
   "cell_type": "code",
   "execution_count": 276,
   "metadata": {},
   "outputs": [
    {
     "name": "stdout",
     "output_type": "stream",
     "text": [
      "[]\n"
     ]
    }
   ],
   "source": [
    "pprint(result) #non vi sono interrogazioni (magari già eliminate con la seduta termina)"
   ]
  },
  {
   "cell_type": "code",
   "execution_count": 277,
   "metadata": {},
   "outputs": [],
   "source": [
    "notresult = []\n",
    "result = []\n",
    "cont = 0\n",
    "\n",
    "for d in dataset_pulito:\n",
    "    if 'seduta' in d.keys():\n",
    "        res = regex.search('(VOTAZIONI){e<3}\\s+(QUALIFICATE){e<3}\\s+(EFFETTUATE){e<4}\\s+(MEDIANTE){e<3}\\s+(PROCEDIMENTO){e<4}\\s+(ELETTRONICO){e<4}',d['seduta'])\n",
    "        if res != None:\n",
    "            result.append(res.group())\n",
    "        else: notresult.append(cont)\n",
    "    cont = cont + 1"
   ]
  },
  {
   "cell_type": "code",
   "execution_count": 278,
   "metadata": {},
   "outputs": [
    {
     "name": "stdout",
     "output_type": "stream",
     "text": [
      "[]\n"
     ]
    }
   ],
   "source": [
    "pprint(result) #non vi sono votazioni (probabilmente eliminta con la seduta termina)"
   ]
  },
  {
   "cell_type": "code",
   "execution_count": 279,
   "metadata": {},
   "outputs": [],
   "source": [
    "#voglio vedere quante volte riesco a trovare la dicitura che indica il presidente\n",
    "\n",
    "notresult = []\n",
    "result = []\n",
    "cont = 0\n",
    "\n",
    "for d in dataset_pulito:\n",
    "    if 'index' in d.keys():\n",
    "        res = regex.search('(PRESIDENZA)\\s+(DEL){e<3}\\s+(PRESIDENTE){e<4}',d['index']) \n",
    "        \n",
    "        if res != []:\n",
    "            result.append(res)\n",
    "\n",
    "        else:    \n",
    "            res = regex.search('(PRESIDENZA){e<3}\\s+(DEL){e<3}\\s+(VICEPRESIDENTE){e<6}',d['index']) \n",
    "\n",
    "            if res != []:\n",
    "                result.append(res)\n",
    "            else:\n",
    "                notresult.append(cont)\n",
    "    cont = cont +1"
   ]
  },
  {
   "cell_type": "code",
   "execution_count": 280,
   "metadata": {},
   "outputs": [
    {
     "name": "stdout",
     "output_type": "stream",
     "text": [
      "318\n"
     ]
    }
   ],
   "source": [
    "pprint(len(result)) #sempre - Legis XVIII"
   ]
  },
  {
   "cell_type": "markdown",
   "metadata": {},
   "source": [
    "## Pulizia del testo"
   ]
  },
  {
   "cell_type": "markdown",
   "metadata": {},
   "source": [
    "### Prima pulizia\n",
    "Rimonzione \\n e introduzione di ogni pagina"
   ]
  },
  {
   "cell_type": "code",
   "execution_count": 491,
   "metadata": {},
   "outputs": [],
   "source": [
    "dataset_pulito = []\n",
    "find = []\n",
    "cont = 0\n",
    "i = 'Atti'\n",
    "\n",
    "for d in dataset:\n",
    "    d['text'] = d['text'].replace('\\n', ' ')\n",
    "    year = d['date'].split('-')[0][0:4] \n",
    "    \n",
    "    resulttot = []\n",
    "    \n",
    "    result = re.findall(i+'(.+?)'+year, d['text'])\n",
    "  \n",
    "    result = [i+elem+year for elem in result]\n",
    "    result = [elem for elem in result if len(elem)< 160]\n",
    "        \n",
    "    resulttot.append(result)\n",
    "\n",
    "    resulttot = reduce(operator.concat, resulttot)\n",
    "    #pprint(resulttot)\n",
    "    find.append(resulttot)\n",
    "    \n",
    "    for l in resulttot:\n",
    "        d['text'] = d['text'].replace(l, '')\n",
    "        \n",
    "    dataset_pulito.append(d)\n",
    "\n",
    "    cont = cont +1"
   ]
  },
  {
   "cell_type": "markdown",
   "metadata": {},
   "source": [
    "### Split inizio e fine seduta"
   ]
  },
  {
   "cell_type": "code",
   "execution_count": 492,
   "metadata": {},
   "outputs": [],
   "source": [
    "#Splitto sull'inizio seduta\n",
    "\n",
    "for d in dataset_pulito:\n",
    "    res = regex.search('(La){e<2}\\s+(seduta){e<3}\\s+(comincia){e<4}',d['text'])\n",
    "    if res !=None:\n",
    "        split = d['text'].split(res.group(),1)\n",
    "        d.pop('text', None)\n",
    "        d['index'],d['seduta'] = split[0], split[1]"
   ]
  },
  {
   "cell_type": "code",
   "execution_count": 493,
   "metadata": {},
   "outputs": [
    {
     "name": "stdout",
     "output_type": "stream",
     "text": [
      "0\n"
     ]
    }
   ],
   "source": [
    "#Lo trovo praticamente ovunque tranne in 4 - Legis XVII\n",
    "#Lo trovo sempre - legis XVIII\n",
    "\n",
    "cont = 0\n",
    "for d in dataset_pulito:\n",
    "    if 'index' not in d.keys():\n",
    "        cont+=1\n",
    "        \n",
    "pprint(cont)"
   ]
  },
  {
   "cell_type": "code",
   "execution_count": 494,
   "metadata": {},
   "outputs": [],
   "source": [
    "#Splitto la fine della seduta\n",
    "\n",
    "for d in dataset_pulito:\n",
    "    if 'seduta' in d.keys():\n",
    "        res = regex.search('(La){e<2}\\s+(seduta){e<2}\\s+(termina){e<3}',d['seduta'])\n",
    "        if res !=None:\n",
    "            split = d['seduta'].split(res.group(),1)\n",
    "            d['seduta'],d['end'] = split[0], split[1]"
   ]
  },
  {
   "cell_type": "code",
   "execution_count": 503,
   "metadata": {},
   "outputs": [],
   "source": [
    "for d in dataset_pulito:\n",
    "    if 'seduta' in d.keys():\n",
    "         d['seduta'] = d['seduta'].replace('  — N. ', ' ')"
   ]
  },
  {
   "cell_type": "markdown",
   "metadata": {},
   "source": [
    "### Controllo interrogazioni e votazioni"
   ]
  },
  {
   "cell_type": "markdown",
   "metadata": {},
   "source": [
    "### Presidenza"
   ]
  },
  {
   "cell_type": "code",
   "execution_count": 468,
   "metadata": {},
   "outputs": [],
   "source": [
    "pattern = '\\w+|\\$[\\d\\.]+|\\S+'\n",
    "tokenizer = RegexpTokenizer(pattern)"
   ]
  },
  {
   "cell_type": "code",
   "execution_count": 469,
   "metadata": {},
   "outputs": [],
   "source": [
    "def find_presidente(data):\n",
    "        pres = {}\n",
    "        res = regex.search('(PRESIDENZA){e<4}\\s+(DEL){e<3}\\s+(PRESIDENTE){e<4}',data) \n",
    "        \n",
    "        if res != None:\n",
    "            pres['presidente'] = data.split(res.group(),1)[1]\n",
    "            pres['presidente'] = tokenizer.tokenize(pres['presidente'])\n",
    "            pres['presidente'] = [x for x in pres['presidente'] if x not in punctuation]\n",
    "            if len(pres['presidente'])<5:\n",
    "                flag = 1 #a volte trova quello in fondo, non voglio fare return\n",
    "            else:    \n",
    "                return pres\n",
    "        \n",
    "        if regex.search('(PRESIDENZA){e<4}\\s+(DEL){e<3}\\s+(VICEPRESIDENTE){e<6}',data) != None: \n",
    "            res = regex.search('(PRESIDENZA){e<4}\\s+(DEL){e<3}\\s+(VICEPRESIDENTE){e<6}',data)\n",
    "            pres['presidente'] = data.split(res.group(),1)[1]\n",
    "            pres['presidente'] = tokenizer.tokenize(pres['presidente'])\n",
    "            pres['presidente'] = [x for x in pres['presidente'] if x not in punctuation]\n",
    "            return pres\n",
    "        \n",
    "        else: return False\n",
    "        \n",
    "        #quando ho indi vuol dire che ho doppio presidente"
   ]
  },
  {
   "cell_type": "code",
   "execution_count": 504,
   "metadata": {},
   "outputs": [],
   "source": [
    "#Vado a salvare il campo presidente\n",
    "\n",
    "presidenza2 = []\n",
    "result = []\n",
    "cont = 0\n",
    "\n",
    "for d in dataset_pulito:\n",
    "    if 'index' in d.keys():\n",
    "        check = False\n",
    "        pres = find_presidente(d['index'])\n",
    "        \n",
    "        if regex.search('(PROVVISORIO){e<4}',pres['presidente'][0]) != None :\n",
    "                check = True\n",
    "                \n",
    "        if check == True:\n",
    "            if pres['presidente'][3].isupper() and len(pres['presidente'][3])>1 and pres['presidente'][3]!= 'INDI':\n",
    "               pres['presidente'] = pres['presidente'][1]+\" \"+pres['presidente'][2]+\" \"+pres['presidente'][3]\n",
    "               \n",
    "            else:  \n",
    "                pres['presidente'] = pres['presidente'][1]+\" \"+pres['presidente'][2]\n",
    "               \n",
    "        else:\n",
    "            if pres['presidente'][2].isupper() and len(pres['presidente'][2])>1 and pres['presidente'][2]!= 'INDI':\n",
    "                pres['presidente'] = pres['presidente'][0]+\" \"+pres['presidente'][1]+\" \"+pres['presidente'][2]\n",
    "            else:   pres['presidente'] = pres['presidente'][0]+\" \"+pres['presidente'][1]\n",
    "        \n",
    "\n",
    "        d['presidente'] = [pres['presidente']]  #salvo tutto come presidente, non tengo la distinzione\n",
    "        \n",
    "        \n",
    "    else:\n",
    "        pres = {}\n",
    "        pres['presidente'] = []\n",
    "   \n",
    "    pres['doc'] = cont\n",
    "\n",
    "    presidenza2.append(pres)\n",
    "    cont = cont+1\n",
    "\n"
   ]
  },
  {
   "cell_type": "code",
   "execution_count": 506,
   "metadata": {},
   "outputs": [],
   "source": [
    "pickle.dump( dataset_pulito, open(\"Dataset_pulito.nosync/dataset_pulito_XVIII_prima.p\", \"wb\" ) )\n",
    "#risalvare quesllo della XVII legis"
   ]
  },
  {
   "cell_type": "code",
   "execution_count": null,
   "metadata": {},
   "outputs": [],
   "source": [
    "dataset_pulito = pickle.load()"
   ]
  },
  {
   "cell_type": "code",
   "execution_count": null,
   "metadata": {},
   "outputs": [],
   "source": [
    "for d in dataset_pulito:\n",
    "    if 'presidente' in d.keys():\n",
    "        pprint(d['presidente'])"
   ]
  },
  {
   "cell_type": "code",
   "execution_count": null,
   "metadata": {},
   "outputs": [],
   "source": [
    "#prova per verificare come cambiano i presidenti \n",
    "\n",
    "cont = 0 \n",
    "result = []\n",
    "\n",
    "for d in dataset_pulito:\n",
    "    if 'seduta' in d.keys():\n",
    "        res_prov = {}\n",
    "        res_prov['doc']=cont\n",
    "        res_prov['pres'] = []\n",
    "        res = regex.findall('(PRESIDENZA){e<4}\\s+(DEL){e<3}\\s+(PRESIDENTE){e<4}',d['seduta'])\n",
    "        print(cont)\n",
    "        if res!=[]:\n",
    "            for r in res:\n",
    "                r = ' '.join(r)\n",
    "                pres = d['seduta'].split(r)[1]\n",
    "                pres = tokenizer.tokenize(pres)\n",
    "                pres = pres[0:2]\n",
    "                res_prov['pres'].append(pres)\n",
    "                \n",
    "        res = regex.findall('(PRESIDENZA){e<4}\\s+(DEL){e<3}\\s+(VICEPRESIDENTE){e<6}',d['seduta'])\n",
    "        if res!=[]:\n",
    "            for r in res:\n",
    "                r = ' '.join(r)\n",
    "                pres = d['seduta'].split(r)[1]\n",
    "                pres = tokenizer.tokenize(pres)\n",
    "                pres = pres[0:2]\n",
    "                res_prov['pres'].append(pres)\n",
    "        \n",
    "        if res_prov['pres']!= []:\n",
    "            result.append(res_prov)\n",
    "                \n",
    "    cont = cont+1\n",
    "    "
   ]
  },
  {
   "cell_type": "code",
   "execution_count": 513,
   "metadata": {},
   "outputs": [],
   "source": [
    "dataset_pulito = pickle.load(open(\"Dataset_pulito.nosync/dataset_pulito_XVIII_prima.p\", \"rb\" ) )"
   ]
  },
  {
   "cell_type": "code",
   "execution_count": null,
   "metadata": {},
   "outputs": [],
   "source": [
    "cont = 0\n",
    "pres = {}\n",
    "\n",
    "for d in dataset_pulito: \n",
    "    if 'seduta' in d.keys() and 'presidente' in d.keys():\n",
    "        d['seduta'] = [d['seduta']]\n",
    "        i = 0\n",
    "        res = regex.search('(PRESIDENZA){e<4}\\s+(DEL){e<3}\\s+(PRESIDENTE){e<5}',d['seduta'][0])\n",
    "\n",
    "        if res == None:\n",
    "            res = regex.search('(PRESIDENZA){e<4}\\s+(DEL){e<3}\\s+(VICEPRESIDENTE){e<6}',d['seduta'][0])\n",
    "\n",
    "\n",
    "        while res != None: #continuo a splittare finchè trovo che c'è un nuovo presidente\n",
    "            check = False\n",
    "            split = d['seduta'][i].split(res.group(),1)\n",
    "            d['seduta'].pop(i)\n",
    "            d['seduta'].append(split[0])\n",
    "            d['seduta'].append(split[1])\n",
    "\n",
    "            pres['presidente'] = tokenizer.tokenize(split[1])\n",
    "            pres['presidente'] = [x for x in pres['presidente'] if x not in punctuation]\n",
    "\n",
    "            if regex.search('(PROVVISORIO){e<4}',pres['presidente'][0]) != None :\n",
    "                check = True\n",
    "                \n",
    "            if check == True:\n",
    "                if pres['presidente'][3].isupper() and len(pres['presidente'][3])>1 and pres['presidente'][3] != 'PRESIDENTE':\n",
    "                    pres['presidente'] = pres['presidente'][1]+\" \"+pres['presidente'][2]+\" \"+pres['presidente'][3]\n",
    "                else:   pres['presidente'] = pres['presidente'][1]+\" \"+pres['presidente'][2]\n",
    "\n",
    "            else:\n",
    "                 if pres['presidente'][2].isupper() and len(pres['presidente'][2])>1 and pres['presidente'][2] != 'PRESIDENTE':\n",
    "                    pres['presidente'] = pres['presidente'][0]+\" \"+pres['presidente'][1]+\" \"+pres['presidente'][2]\n",
    "                 else:   pres['presidente'] = pres['presidente'][0]+\" \"+pres['presidente'][1]\n",
    "\n",
    "            d['presidente'].append(pres['presidente'])\n",
    "\n",
    "\n",
    "            i = i+1\n",
    "            res = regex.search('(PRESIDENZA){e<4}\\s+(DEL){e<3}\\s+(PRESIDENTE){e<5}',d['seduta'][i])\n",
    "            #<5 così se ho vicepresidente prima lo trovo cmq\n",
    "            \n",
    "            if res == None:\n",
    "                res = regex.search('(PRESIDENZA){e<4}\\s+(DEL){e<3}\\s+(VICEPRESIDENTE){e<6}',d['seduta'][i])\n",
    "          \n",
    "    pprint(cont)       \n",
    "    cont = cont+1"
   ]
  },
  {
   "cell_type": "code",
   "execution_count": null,
   "metadata": {},
   "outputs": [],
   "source": [
    "for d in dataset_pulito:\n",
    "    pprint(d['presidente'])"
   ]
  },
  {
   "cell_type": "code",
   "execution_count": 516,
   "metadata": {},
   "outputs": [],
   "source": [
    "len_p = []\n",
    "for d in dataset_pulito:\n",
    "    if 'presidente' in d.keys():\n",
    "        for p in d['presidente']:\n",
    "             len_p.append(len(d['presidente']))"
   ]
  },
  {
   "cell_type": "code",
   "execution_count": 517,
   "metadata": {},
   "outputs": [
    {
     "name": "stdout",
     "output_type": "stream",
     "text": [
      "6\n",
      "2.708141321044547\n",
      "3.0\n"
     ]
    }
   ],
   "source": [
    "pprint(np.max(len_p))\n",
    "pprint(np.mean(len_p))\n",
    "pprint(np.median(len_p))"
   ]
  },
  {
   "cell_type": "code",
   "execution_count": 541,
   "metadata": {},
   "outputs": [],
   "source": [
    "for d in dataset_pulito:\n",
    "    if 'presidente' in d.keys():\n",
    "        cont = 0\n",
    "        for p in d['presidente']:\n",
    "            pr = p.split(' ')\n",
    "            if len(pr) > 2 and pr[2] == 'PRESIDENTE':\n",
    "                print(d['presidente'][cont])\n",
    "                d['presidente'][cont] = pr[0]+\" \"+pr[1]\n",
    "                print(d['presidente'][cont])\n",
    "            cont = cont+1"
   ]
  },
  {
   "cell_type": "code",
   "execution_count": null,
   "metadata": {},
   "outputs": [],
   "source": [
    "cont = 0\n",
    "for d in dataset:\n",
    "    if 'seduta' in dataset_pulito[cont].keys():\n",
    "        l = len(d['text'])\n",
    "        l2 = len(dataset_pulito[cont]['index'])+len('la seduta comincia')\n",
    "        for s in dataset_pulito[cont]['seduta']:\n",
    "            l2 = l2+len(s)+len('PRESIDENZA DEL PRESIDENTE')\n",
    "        if 'end' in dataset_pulito[cont].keys():\n",
    "            l2 = l2+len(dataset_pulito[cont]['end'])+len('LA SEDUTA TERMINA')\n",
    "    pprint(str(cont)+\" \"+str(l)+\" \"+str(l2))\n",
    "    cont = cont+1"
   ]
  },
  {
   "cell_type": "code",
   "execution_count": 542,
   "metadata": {},
   "outputs": [],
   "source": [
    "pickle.dump( dataset_pulito, open(\"Dataset_pulito.nosync/dataset_pulito_XVIII.p\", \"wb\" ) )"
   ]
  },
  {
   "cell_type": "code",
   "execution_count": 218,
   "metadata": {},
   "outputs": [],
   "source": [
    "dataset_pulito = pickle.load(open(\"Dataset_pulito.nosync/dataset_pulito_XVII.p\", \"rb\" ) )"
   ]
  },
  {
   "cell_type": "markdown",
   "metadata": {},
   "source": [
    "## Estrazione dei Discorsi"
   ]
  },
  {
   "cell_type": "markdown",
   "metadata": {},
   "source": [
    "### Estrazione nomi dei politici"
   ]
  },
  {
   "cell_type": "code",
   "execution_count": 553,
   "metadata": {},
   "outputs": [],
   "source": [
    "politici = {}\n",
    "\n",
    "for d in dataset_pulito:\n",
    "    if 'presidente' in d.keys():\n",
    "        for p in d['presidente']:\n",
    "            if p not in politici.keys():\n",
    "                politici[p] = 1"
   ]
  },
  {
   "cell_type": "code",
   "execution_count": 658,
   "metadata": {},
   "outputs": [],
   "source": [
    "presidenti = {}\n",
    "\n",
    "for d in dataset_pulito:\n",
    "    if 'presidente' in d.keys():\n",
    "        for p in d['presidente']:\n",
    "            if p not in presidenti.keys():\n",
    "                presidenti[p] = 1"
   ]
  },
  {
   "cell_type": "code",
   "execution_count": 659,
   "metadata": {},
   "outputs": [
    {
     "name": "stdout",
     "output_type": "stream",
     "text": [
      "{'180 MARIA ROSARIA': 1,\n",
      " '20 ROBERTO FICO': 1,\n",
      " '54 MARIA ROSARIA': 1,\n",
      " '94 ETTORE ROSATO': 1,\n",
      " 'ETTORE ROSATO': 1,\n",
      " 'ETTORE ROSATO (ORE': 1,\n",
      " 'FABIO RAMPELLI': 1,\n",
      " 'FABIO RAMPELLI (ORE': 1,\n",
      " 'LORENZO FONTANA': 1,\n",
      " 'MARIA EDERA SPADONI': 1,\n",
      " 'MARIA ROSARIA CARFAGNA': 1,\n",
      " 'ROBERTO FICO': 1,\n",
      " 'ROBERTO GIACHETTI': 1}\n"
     ]
    }
   ],
   "source": [
    "pprint(presidenti)"
   ]
  },
  {
   "cell_type": "code",
   "execution_count": null,
   "metadata": {},
   "outputs": [],
   "source": [
    "pprint(politici) #quelli con gli errori si sistemano poi con le regex"
   ]
  },
  {
   "cell_type": "code",
   "execution_count": 555,
   "metadata": {},
   "outputs": [],
   "source": [
    "#Prima cerco di estrarre i nomi dei leader e li salvo\n",
    "\n",
    "cont = 0\n",
    "flag = 0\n",
    "\n",
    "for data in dataset_pulito:\n",
    "    if 'seduta' in data.keys():\n",
    "        for k in range(0,len(data['seduta'])):\n",
    "            presidente = data['presidente'][k]\n",
    "            \n",
    "            text = data['seduta'][k]\n",
    "            text_token = tokenizer.tokenize(text)\n",
    "            text_token = [x for x in text_token if x not in punctuation]\n",
    "\n",
    "            for i in range(0,len(text_token)):\n",
    "\n",
    "                    word = text_token[i]\n",
    "                    politico = re.search(r\"[A-Z]{4,}\", word)\n",
    "\n",
    "                    if politico != None and i+2<len(text_token):\n",
    "                        if editdistance.eval(politico.group(), 'PRESIDENTE')<4:\n",
    "                            pol = presidente\n",
    "                            politici[pol] = politici[pol]+1\n",
    "                        \n",
    "                        else:\n",
    "                            if flag == 0: \n",
    "                                flag = 0\n",
    "                                if text_token[i+1].isupper() and len(text_token[i+1])>1 and text_token[i+1][0]!='(' : #ignoro cose tipo XIII legisl\n",
    "\n",
    "                                    if text_token[i+2].isupper() and len(text_token[i+2])>2 and text_token[i+2][0]!='(':\n",
    "                                        pol = word+\" \"+text_token[i+1]+\" \"+text_token[i+2]\n",
    "\n",
    "                                        if pol not in politici.keys():\n",
    "                                            politici[pol] = 1\n",
    "                                        else: politici[pol] = politici[pol]+1\n",
    "                                        flag = 2\n",
    "\n",
    "\n",
    "                                    else:\n",
    "                                        pol = word+\" \"+text_token[i+1]\n",
    "                                        if pol not in politici.keys():\n",
    "                                            politici[pol] = 1\n",
    "                                        else: politici[pol] = politici[pol]+1\n",
    "                                        flag = 1\n",
    "\n",
    "                            else: flag = flag -1\n",
    "\n",
    "            cont = cont +1"
   ]
  },
  {
   "cell_type": "code",
   "execution_count": 579,
   "metadata": {},
   "outputs": [
    {
     "name": "stdout",
     "output_type": "stream",
     "text": [
      "820\n"
     ]
    }
   ],
   "source": [
    "pprint(len(politici))"
   ]
  },
  {
   "cell_type": "code",
   "execution_count": 564,
   "metadata": {},
   "outputs": [],
   "source": [
    "politici_max = [] #tengo solamente quelli con almeno 5 occorrenze\n",
    "\n",
    "for k in politici.keys(): #no ho tanti alzo il numero delle occorrenze\n",
    "    if politici[k] > 4:\n",
    "        politici_max.append([k, politici[k]]) "
   ]
  },
  {
   "cell_type": "code",
   "execution_count": 565,
   "metadata": {},
   "outputs": [
    {
     "name": "stdout",
     "output_type": "stream",
     "text": [
      "552\n"
     ]
    }
   ],
   "source": [
    "pprint(len(politici_max))"
   ]
  },
  {
   "cell_type": "code",
   "execution_count": 566,
   "metadata": {},
   "outputs": [],
   "source": [
    "politici_max_name = [elem[0] for elem in politici_max]"
   ]
  },
  {
   "cell_type": "code",
   "execution_count": 585,
   "metadata": {},
   "outputs": [
    {
     "name": "stdout",
     "output_type": "stream",
     "text": [
      "'ROBERTO FICO 20 ROBERTO FICO'\n",
      "'ETTORE ROSATO 94 ETTORE ROSATO'\n",
      "'54 MARIA ROSARIA 180 MARIA ROSARIA'\n",
      "'SEDUTA DI VENERDÌ SEDUTA DI LUNEDÌ'\n",
      "'FRANCESCO SCOMA FRANCESCO SAPIA'\n",
      "'GIANLUCA VACCA GIANLUCA VINCI'\n"
     ]
    }
   ],
   "source": [
    "#li aggrego in base alle somiglianze nel nome\n",
    "\n",
    "politici_definitivi = []\n",
    "cont = 1\n",
    "\n",
    "for p in politici_max:\n",
    "    for i in range(cont, len(politici_max)):\n",
    "        if len(p[0]) <=  10 and editdistance.eval(p[0],politici_max[i][0])<2:\n",
    "            p[1] = p[1] + politici_max[i][1]\n",
    "            politici_max[i][1] = 0\n",
    "            pprint(p[0]+\" \"+politici_max[i][0])\n",
    "            \n",
    "        if len(p[0]) > 10 and editdistance.eval(p[0],politici_max[i][0])<4: #abbasso il numero degli errori in quanto capita raramente\n",
    "            p[1] = p[1] + politici_max[i][1]\n",
    "            politici_max[i][1] = 0\n",
    "            pprint(p[0]+\" \"+politici_max[i][0])\n",
    "            \n",
    "    cont = cont +1"
   ]
  },
  {
   "cell_type": "code",
   "execution_count": null,
   "metadata": {},
   "outputs": [],
   "source": [
    "sorted(politici_max)"
   ]
  },
  {
   "cell_type": "code",
   "execution_count": 587,
   "metadata": {},
   "outputs": [],
   "source": [
    "#elimino quelli che sono stati aggregati\n",
    "politici_max_agg = [elem for elem in politici_max if elem[1]>0]"
   ]
  },
  {
   "cell_type": "code",
   "execution_count": 588,
   "metadata": {},
   "outputs": [
    {
     "name": "stdout",
     "output_type": "stream",
     "text": [
      "546\n"
     ]
    }
   ],
   "source": [
    "pprint(len(politici_max_agg))"
   ]
  },
  {
   "cell_type": "code",
   "execution_count": 589,
   "metadata": {},
   "outputs": [],
   "source": [
    "politici_max_def = [elem for elem in politici_max if elem[1]>50]"
   ]
  },
  {
   "cell_type": "code",
   "execution_count": 590,
   "metadata": {},
   "outputs": [
    {
     "name": "stdout",
     "output_type": "stream",
     "text": [
      "110\n"
     ]
    }
   ],
   "source": [
    "pprint(len(politici_max_def))\n",
    "\n",
    "#170 politici hanno almeno 100 discorso, vanno cmq ripuliti"
   ]
  },
  {
   "cell_type": "code",
   "execution_count": null,
   "metadata": {},
   "outputs": [],
   "source": [
    "pprint(sorted(politici_max_def))"
   ]
  },
  {
   "cell_type": "code",
   "execution_count": 594,
   "metadata": {},
   "outputs": [],
   "source": [
    "politici_max_def_name = [elem[0] for elem in politici_max_def] #politici che considero rilevanti"
   ]
  },
  {
   "cell_type": "code",
   "execution_count": 595,
   "metadata": {},
   "outputs": [
    {
     "data": {
      "text/plain": [
       "552"
      ]
     },
     "execution_count": 595,
     "metadata": {},
     "output_type": "execute_result"
    }
   ],
   "source": [
    "len(politici_max_name) #considero questi politici, quindi mi farebbero interrompere il discorso"
   ]
  },
  {
   "cell_type": "code",
   "execution_count": 597,
   "metadata": {},
   "outputs": [],
   "source": [
    "politici_max_name.remove('XVIII LEGISLATURA')\n",
    "politici_max_name.remove('SEDUTA DI VENERDÌ')\n",
    "politici_max_name.remove('SEDUTA DI MARTEDÌ')"
   ]
  },
  {
   "cell_type": "code",
   "execution_count": 599,
   "metadata": {},
   "outputs": [],
   "source": [
    "politici_max_def_name.remove('XVIII LEGISLATURA')"
   ]
  },
  {
   "cell_type": "markdown",
   "metadata": {},
   "source": [
    "### Estrazione e salvataggio dei discorsi"
   ]
  },
  {
   "cell_type": "code",
   "execution_count": 600,
   "metadata": {},
   "outputs": [],
   "source": [
    "def check_politico(pol):\n",
    "        \n",
    "    for cog in politici_max_def_name:\n",
    "            res = editdistance.eval(cog,pol)\n",
    "            \n",
    "            if len(pol)  <= 10 and res<2:\n",
    "                return True, cog\n",
    "                \n",
    "            if len(pol) > 10 and res<4:\n",
    "                return True, cog\n",
    "    \n",
    "    return False, None"
   ]
  },
  {
   "cell_type": "code",
   "execution_count": 601,
   "metadata": {},
   "outputs": [],
   "source": [
    "discorsi = {}\n",
    "\n",
    "for cog in politici_max_def_name:\n",
    "    discorsi[cog] = []"
   ]
  },
  {
   "cell_type": "code",
   "execution_count": null,
   "metadata": {},
   "outputs": [],
   "source": [
    "#Salvo i discorsi\n",
    "\n",
    "cont = 0\n",
    "flag = 0\n",
    "d = {}\n",
    "\n",
    "\n",
    "for data in dataset_pulito:\n",
    "    if 'seduta' in data.keys():\n",
    "         for k in range(0,len(data['seduta'])):\n",
    "            presidente = data['presidente'][k]\n",
    "            \n",
    "            text = data['seduta'][k]\n",
    "            text_token = tokenizer.tokenize(text)\n",
    "            text_token = [x for x in text_token if x not in punctuation]\n",
    "            i = 0\n",
    "            flag = 0\n",
    "            d = {}\n",
    "\n",
    "            for word in text_token:\n",
    "\n",
    "                    politico = re.search(r\"[A-Z]{4,}\", word)\n",
    "\n",
    "                    if politico != None and i+2<len(text_token):\n",
    "                        \n",
    "                        if editdistance.eval(politico.group(), 'PRESIDENTE')<4:\n",
    "                            pprint(politico.group())\n",
    "                            \n",
    "                            if d!={} and len(d['discorso'])>2:\n",
    "                                discorsi[d['politico']].append(d['discorso'])\n",
    "                                pprint(str(cont)+' '+d['politico'])\n",
    "                            \n",
    "                                \n",
    "                            flag = 0\n",
    "                            d = {}\n",
    "                            \n",
    "                            pres, cog_pres = check_politico(presidente) #controllo se il presidente mi interessa\n",
    "                            \n",
    "                            if pres == True:\n",
    "                                d['politico'] = cog_pres\n",
    "                                d['discorso'] = []\n",
    "                                flag = 1\n",
    "                        \n",
    "                        else:\n",
    "                            pol = politico.group()+\" \"+text_token[i+1]\n",
    "      \n",
    "                            pol2 =  politico.group()+\" \"+text_token[i+1]+\" \"+text_token[i+2]\n",
    "             \n",
    "                            \n",
    "                            if (pol in politici_max_name) or (pol2 in politici_max_name): #se non è in questa lista non lo considero un politico \n",
    "                                    if d!={} and len(d['discorso'])>2: #salvo perchè significa che inizia un altro discorso\n",
    "                                        discorsi[d['politico']].append(d['discorso'])\n",
    "                                        pprint(str(cont)+' '+d['politico'])\n",
    "                                        \n",
    "                                    \n",
    "                                    flag = 0\n",
    "                                    d = {}\n",
    "\n",
    "                                    if text_token[i+2].isupper() and len(text_token[i+2])>2 and text_token[i+2][0]!='(': \n",
    "                                        check, cog = check_politico(pol2)\n",
    "                                        if check == True:\n",
    "                                            d['politico'] = cog\n",
    "                                            d['discorso'] = []\n",
    "                                            text_token.pop(i+1)\n",
    "                                            text_token.pop(i+1)\n",
    "                                            flag = 1\n",
    "\n",
    "                                    else:\n",
    "                                        check, cog = check_politico(pol)\n",
    "                                        if check == True:\n",
    "                                            flag = 1\n",
    "                                            d['politico'] = cog\n",
    "                                            d['discorso'] = []\n",
    "                                            text_token.pop(i+1)\n",
    "\n",
    "                            elif flag == 1: #vuol dire che è una parola in maiuscolo ma non è un politico\n",
    "                                d['discorso'].append(word)\n",
    "                         \n",
    "                    elif flag ==1:\n",
    "                        d['discorso'].append(word)\n",
    "                    i = i +1\n",
    "                    \n",
    "            if d != {} and len(d['discorso'])>2: \n",
    "                discorsi[d['politico']].append(d['discorso'])\n",
    "                pprint(str(cont)+' '+d['politico'])\n",
    "               \n",
    "    cont = cont +1"
   ]
  },
  {
   "cell_type": "code",
   "execution_count": null,
   "metadata": {},
   "outputs": [],
   "source": [
    "for k in sorted(discorsi.keys()):\n",
    "    print(k+\" \"+str(len(discorsi[k])))"
   ]
  },
  {
   "cell_type": "code",
   "execution_count": null,
   "metadata": {},
   "outputs": [],
   "source": [
    "for d in discorsi['54 MARIA ROSARIA']:\n",
    "    discorsi['MARIA ROSARIA CARFAGNA'].append(d)\n",
    "\n",
    "discorsi.pop('54 MARIA ROSARIA')"
   ]
  },
  {
   "cell_type": "code",
   "execution_count": 650,
   "metadata": {},
   "outputs": [],
   "source": [
    "#Salvo un file per ciascun politico con i suoi discorso\n",
    "\n",
    "for cog in discorsi.keys():\n",
    "    pickle.dump( discorsi[cog], open( 'Discorsi-XVIII-legis/'+cog+\".p\", \"wb\" ) )\n",
    "    \n",
    "    #arrivata qua, funziona!! salvato tutto "
   ]
  },
  {
   "cell_type": "code",
   "execution_count": 651,
   "metadata": {},
   "outputs": [],
   "source": [
    "pickle.dump( list(discorsi.keys()), open( 'Discorsi-XVIII-legis/cognomi_discorsi.p', \"wb\" ) )\n",
    "#Salvato"
   ]
  },
  {
   "cell_type": "code",
   "execution_count": 661,
   "metadata": {},
   "outputs": [],
   "source": [
    "lb = pickle.load( open( \"Discorsi-XVIII-legis/cognomi_discorsi.p\", \"rb\" ) )"
   ]
  },
  {
   "cell_type": "code",
   "execution_count": 664,
   "metadata": {},
   "outputs": [],
   "source": [
    "leng = []\n",
    "for k in discorsi.keys():\n",
    "    leng.append(len(discorsi[k]))"
   ]
  },
  {
   "cell_type": "code",
   "execution_count": 665,
   "metadata": {},
   "outputs": [
    {
     "name": "stdout",
     "output_type": "stream",
     "text": [
      "108\n"
     ]
    }
   ],
   "source": [
    "pprint(len(leng))"
   ]
  },
  {
   "cell_type": "code",
   "execution_count": 666,
   "metadata": {},
   "outputs": [
    {
     "data": {
      "text/plain": [
       "300.3425925925926"
      ]
     },
     "execution_count": 666,
     "metadata": {},
     "output_type": "execute_result"
    }
   ],
   "source": [
    "np.mean(leng)"
   ]
  },
  {
   "cell_type": "code",
   "execution_count": 653,
   "metadata": {},
   "outputs": [
    {
     "name": "stdout",
     "output_type": "stream",
     "text": [
      "108\n"
     ]
    }
   ],
   "source": [
    "pprint(len(discorsi.keys()))"
   ]
  },
  {
   "cell_type": "markdown",
   "metadata": {},
   "source": [
    "### punto della situazione\n",
    "\n",
    "#### Cose fatte:\n",
    "1. Ripulito il testo dall'intestazione\n",
    "2. Splittatto in index, seduta, fine seduta (end)\n",
    "3. impostato come trovare tutti i presidenti e splittare tutte le sedute\n",
    "5. Estratto i discorsi e salvati nei file\n",
    "                                              \n",
    "108 politici di interesse - 300 discorsi in media con mediana 83 - con soglia a 50\n"
   ]
  },
  {
   "cell_type": "code",
   "execution_count": null,
   "metadata": {},
   "outputs": [],
   "source": []
  }
 ],
 "metadata": {
  "kernelspec": {
   "display_name": "Python 3",
   "language": "python",
   "name": "python3"
  },
  "language_info": {
   "codemirror_mode": {
    "name": "ipython",
    "version": 3
   },
   "file_extension": ".py",
   "mimetype": "text/x-python",
   "name": "python",
   "nbconvert_exporter": "python",
   "pygments_lexer": "ipython3",
   "version": "3.8.3"
  }
 },
 "nbformat": 4,
 "nbformat_minor": 4
}
